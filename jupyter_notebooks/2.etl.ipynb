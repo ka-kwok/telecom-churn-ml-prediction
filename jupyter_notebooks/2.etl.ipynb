{
  "cells": [
    {
      "cell_type": "markdown",
      "metadata": {
        "id": "0aStgWSO0E0E"
      },
      "source": [
        "# **Telecom Churn Analytics:** \n",
        "## ***Building Predictive Models to Improve Customer Retention***"
      ]
    },
    {
      "cell_type": "markdown",
      "metadata": {
        "id": "-mavJ8DibrcQ"
      },
      "source": [
        "### Section 2 - ETL 🧹🛠️"
      ]
    },
    {
      "cell_type": "markdown",
      "metadata": {},
      "source": [
        "---"
      ]
    },
    {
      "cell_type": "markdown",
      "metadata": {
        "id": "1eLEkw5O0ECa"
      },
      "source": [
        "### Objectives\n",
        "\n",
        "In this section, the aim is to prepare a cleaned dataset for visualization and analysis from the raw data files. There are ETL procedures form data extraction, data cleaning and processing to data load.\n",
        "\n",
        "\n",
        "### Inputs\n",
        "\n",
        "* Datasets used for this analysis is the retail data set from Kaggle (https://www.kaggle.com/datasets/mubeenshehzadi/customer-churn-dataset/). \n",
        "\n",
        "* 1 raw file will be used.\n",
        "    * [telecom_customer_churn.csv](../dataset/raw/telecom_customer_churn.csv) \n",
        "\n",
        "### Ethical Considerations\n",
        "\n",
        "* The `customerID` field is removed to prevent exposure of personally identifiable information (PII), ensuring data privacy and compliance with regulations such as GDPR and CCPA.\n",
        "\n",
        "* The `SeniorCitizen` and `gender` fields are initially included during exploratory analysis to understand demographic patterns influencing customer churn. These fields will be excluded from the final prediction model to prevent potential demographic bias and ensure fairness in churn prediction. This decision aligns with ethical AI principles by focusing on behavioral and service-related factors rather than personal characteristics.\n",
        "\n",
        "### Outputs\n",
        "\n",
        "* A cleaned dataset will be saved as a CSV file below\n",
        "    * [telecom_customer_churn_cleaned.csv](../dataset/processed/telecom_customer_churn_cleaned\n",
        "    .csv)\n",
        "* An encoded dataset will be saved as a CSV file below\n",
        "    * [telecom_customer_churn_encoded.csv](../dataset/processed/telecom_customer_churn_encoded\n",
        "    .csv)\n",
        "\n",
        "\n"
      ]
    },
    {
      "cell_type": "markdown",
      "metadata": {
        "id": "9uWZXH9LwoQg"
      },
      "source": [
        "---"
      ]
    },
    {
      "cell_type": "markdown",
      "metadata": {
        "id": "cqP-UeN-z3i2"
      },
      "source": [
        "### Change working directory"
      ]
    },
    {
      "cell_type": "markdown",
      "metadata": {},
      "source": [
        "* We are assuming you will store the notebooks in a subfolder, therefore when running the notebook in the editor, you will need to change the working directory"
      ]
    },
    {
      "cell_type": "code",
      "execution_count": 1,
      "metadata": {
        "id": "wZfF_j-Bz3i4",
        "outputId": "66943449-1436-4c3d-85c7-b85f9f78349b"
      },
      "outputs": [
        {
          "name": "stdout",
          "output_type": "stream",
          "text": [
            "You set a new current directory: /Users/denniskwok/Documents/data-analytics/telecom-churn-ml-prediction\n"
          ]
        }
      ],
      "source": [
        "import os\n",
        "\n",
        "os.chdir(os.path.dirname(os.getcwd()))\n",
        "current_dir = os.getcwd()\n",
        "print(f\"You set a new current directory: {current_dir}\")\n"
      ]
    },
    {
      "cell_type": "markdown",
      "metadata": {},
      "source": [
        "---"
      ]
    },
    {
      "cell_type": "markdown",
      "metadata": {},
      "source": [
        "## **Part A**"
      ]
    },
    {
      "cell_type": "markdown",
      "metadata": {},
      "source": [
        "### **Data Extraction**"
      ]
    },
    {
      "cell_type": "code",
      "execution_count": 2,
      "metadata": {},
      "outputs": [],
      "source": [
        "import numpy as np\n",
        "import pandas as pd"
      ]
    },
    {
      "cell_type": "markdown",
      "metadata": {},
      "source": [
        "#### Step 1: Load Dataset"
      ]
    },
    {
      "cell_type": "code",
      "execution_count": 3,
      "metadata": {},
      "outputs": [
        {
          "name": "stdout",
          "output_type": "stream",
          "text": [
            "Loaded dataset/raw/telecom_customer_churn.csv successfully.\n"
          ]
        }
      ],
      "source": [
        "# Load dataset from csv file\n",
        "def load_csv(filepath):\n",
        "    try:\n",
        "        df = pd.read_csv(filepath)\n",
        "        print(f\"Loaded {filepath} successfully.\")\n",
        "        return df\n",
        "    except FileNotFoundError:\n",
        "        print(f\"File not found: {filepath}\")\n",
        "        return pd.DataFrame()\n",
        "\n",
        "df = load_csv(\"dataset/raw/telecom_customer_churn.csv\")\n"
      ]
    },
    {
      "cell_type": "markdown",
      "metadata": {},
      "source": [
        "### Step 2: Overview The RAW Dataset"
      ]
    },
    {
      "cell_type": "markdown",
      "metadata": {},
      "source": [
        "**General dataframe information** "
      ]
    },
    {
      "cell_type": "code",
      "execution_count": 4,
      "metadata": {},
      "outputs": [
        {
          "name": "stdout",
          "output_type": "stream",
          "text": [
            "<class 'pandas.core.frame.DataFrame'>\n",
            "RangeIndex: 7043 entries, 0 to 7042\n",
            "Data columns (total 21 columns):\n",
            " #   Column            Non-Null Count  Dtype  \n",
            "---  ------            --------------  -----  \n",
            " 0   customerID        7043 non-null   object \n",
            " 1   gender            7043 non-null   object \n",
            " 2   SeniorCitizen     7043 non-null   int64  \n",
            " 3   Partner           7043 non-null   object \n",
            " 4   Dependents        7043 non-null   object \n",
            " 5   tenure            7043 non-null   int64  \n",
            " 6   PhoneService      7043 non-null   object \n",
            " 7   MultipleLines     7043 non-null   object \n",
            " 8   InternetService   7043 non-null   object \n",
            " 9   OnlineSecurity    7043 non-null   object \n",
            " 10  OnlineBackup      7043 non-null   object \n",
            " 11  DeviceProtection  7043 non-null   object \n",
            " 12  TechSupport       7043 non-null   object \n",
            " 13  StreamingTV       7043 non-null   object \n",
            " 14  StreamingMovies   7043 non-null   object \n",
            " 15  Contract          7043 non-null   object \n",
            " 16  PaperlessBilling  7043 non-null   object \n",
            " 17  PaymentMethod     7043 non-null   object \n",
            " 18  MonthlyCharges    7043 non-null   float64\n",
            " 19  TotalCharges      7043 non-null   object \n",
            " 20  Churn             7043 non-null   object \n",
            "dtypes: float64(1), int64(2), object(18)\n",
            "memory usage: 1.1+ MB\n"
          ]
        }
      ],
      "source": [
        "df.info() # Display dataframe information  "
      ]
    },
    {
      "cell_type": "markdown",
      "metadata": {},
      "source": [
        "**Dataframe data overview**"
      ]
    },
    {
      "cell_type": "code",
      "execution_count": 5,
      "metadata": {},
      "outputs": [
        {
          "data": {
            "text/html": [
              "<div>\n",
              "<style scoped>\n",
              "    .dataframe tbody tr th:only-of-type {\n",
              "        vertical-align: middle;\n",
              "    }\n",
              "\n",
              "    .dataframe tbody tr th {\n",
              "        vertical-align: top;\n",
              "    }\n",
              "\n",
              "    .dataframe thead th {\n",
              "        text-align: right;\n",
              "    }\n",
              "</style>\n",
              "<table border=\"1\" class=\"dataframe\">\n",
              "  <thead>\n",
              "    <tr style=\"text-align: right;\">\n",
              "      <th></th>\n",
              "      <th>customerID</th>\n",
              "      <th>gender</th>\n",
              "      <th>SeniorCitizen</th>\n",
              "      <th>Partner</th>\n",
              "      <th>Dependents</th>\n",
              "      <th>tenure</th>\n",
              "      <th>PhoneService</th>\n",
              "      <th>MultipleLines</th>\n",
              "      <th>InternetService</th>\n",
              "      <th>OnlineSecurity</th>\n",
              "      <th>...</th>\n",
              "      <th>DeviceProtection</th>\n",
              "      <th>TechSupport</th>\n",
              "      <th>StreamingTV</th>\n",
              "      <th>StreamingMovies</th>\n",
              "      <th>Contract</th>\n",
              "      <th>PaperlessBilling</th>\n",
              "      <th>PaymentMethod</th>\n",
              "      <th>MonthlyCharges</th>\n",
              "      <th>TotalCharges</th>\n",
              "      <th>Churn</th>\n",
              "    </tr>\n",
              "  </thead>\n",
              "  <tbody>\n",
              "    <tr>\n",
              "      <th>0</th>\n",
              "      <td>7590-VHVEG</td>\n",
              "      <td>Female</td>\n",
              "      <td>0</td>\n",
              "      <td>Yes</td>\n",
              "      <td>No</td>\n",
              "      <td>1</td>\n",
              "      <td>No</td>\n",
              "      <td>No phone service</td>\n",
              "      <td>DSL</td>\n",
              "      <td>No</td>\n",
              "      <td>...</td>\n",
              "      <td>No</td>\n",
              "      <td>No</td>\n",
              "      <td>No</td>\n",
              "      <td>No</td>\n",
              "      <td>Month-to-month</td>\n",
              "      <td>Yes</td>\n",
              "      <td>Electronic check</td>\n",
              "      <td>29.85</td>\n",
              "      <td>29.85</td>\n",
              "      <td>No</td>\n",
              "    </tr>\n",
              "    <tr>\n",
              "      <th>1</th>\n",
              "      <td>5575-GNVDE</td>\n",
              "      <td>Male</td>\n",
              "      <td>0</td>\n",
              "      <td>No</td>\n",
              "      <td>No</td>\n",
              "      <td>34</td>\n",
              "      <td>Yes</td>\n",
              "      <td>No</td>\n",
              "      <td>DSL</td>\n",
              "      <td>Yes</td>\n",
              "      <td>...</td>\n",
              "      <td>Yes</td>\n",
              "      <td>No</td>\n",
              "      <td>No</td>\n",
              "      <td>No</td>\n",
              "      <td>One year</td>\n",
              "      <td>No</td>\n",
              "      <td>Mailed check</td>\n",
              "      <td>56.95</td>\n",
              "      <td>1889.5</td>\n",
              "      <td>No</td>\n",
              "    </tr>\n",
              "    <tr>\n",
              "      <th>2</th>\n",
              "      <td>3668-QPYBK</td>\n",
              "      <td>Male</td>\n",
              "      <td>0</td>\n",
              "      <td>No</td>\n",
              "      <td>No</td>\n",
              "      <td>2</td>\n",
              "      <td>Yes</td>\n",
              "      <td>No</td>\n",
              "      <td>DSL</td>\n",
              "      <td>Yes</td>\n",
              "      <td>...</td>\n",
              "      <td>No</td>\n",
              "      <td>No</td>\n",
              "      <td>No</td>\n",
              "      <td>No</td>\n",
              "      <td>Month-to-month</td>\n",
              "      <td>Yes</td>\n",
              "      <td>Mailed check</td>\n",
              "      <td>53.85</td>\n",
              "      <td>108.15</td>\n",
              "      <td>Yes</td>\n",
              "    </tr>\n",
              "    <tr>\n",
              "      <th>3</th>\n",
              "      <td>7795-CFOCW</td>\n",
              "      <td>Male</td>\n",
              "      <td>0</td>\n",
              "      <td>No</td>\n",
              "      <td>No</td>\n",
              "      <td>45</td>\n",
              "      <td>No</td>\n",
              "      <td>No phone service</td>\n",
              "      <td>DSL</td>\n",
              "      <td>Yes</td>\n",
              "      <td>...</td>\n",
              "      <td>Yes</td>\n",
              "      <td>Yes</td>\n",
              "      <td>No</td>\n",
              "      <td>No</td>\n",
              "      <td>One year</td>\n",
              "      <td>No</td>\n",
              "      <td>Bank transfer (automatic)</td>\n",
              "      <td>42.30</td>\n",
              "      <td>1840.75</td>\n",
              "      <td>No</td>\n",
              "    </tr>\n",
              "    <tr>\n",
              "      <th>4</th>\n",
              "      <td>9237-HQITU</td>\n",
              "      <td>Female</td>\n",
              "      <td>0</td>\n",
              "      <td>No</td>\n",
              "      <td>No</td>\n",
              "      <td>2</td>\n",
              "      <td>Yes</td>\n",
              "      <td>No</td>\n",
              "      <td>Fiber optic</td>\n",
              "      <td>No</td>\n",
              "      <td>...</td>\n",
              "      <td>No</td>\n",
              "      <td>No</td>\n",
              "      <td>No</td>\n",
              "      <td>No</td>\n",
              "      <td>Month-to-month</td>\n",
              "      <td>Yes</td>\n",
              "      <td>Electronic check</td>\n",
              "      <td>70.70</td>\n",
              "      <td>151.65</td>\n",
              "      <td>Yes</td>\n",
              "    </tr>\n",
              "  </tbody>\n",
              "</table>\n",
              "<p>5 rows × 21 columns</p>\n",
              "</div>"
            ],
            "text/plain": [
              "   customerID  gender  SeniorCitizen Partner Dependents  tenure PhoneService  \\\n",
              "0  7590-VHVEG  Female              0     Yes         No       1           No   \n",
              "1  5575-GNVDE    Male              0      No         No      34          Yes   \n",
              "2  3668-QPYBK    Male              0      No         No       2          Yes   \n",
              "3  7795-CFOCW    Male              0      No         No      45           No   \n",
              "4  9237-HQITU  Female              0      No         No       2          Yes   \n",
              "\n",
              "      MultipleLines InternetService OnlineSecurity  ... DeviceProtection  \\\n",
              "0  No phone service             DSL             No  ...               No   \n",
              "1                No             DSL            Yes  ...              Yes   \n",
              "2                No             DSL            Yes  ...               No   \n",
              "3  No phone service             DSL            Yes  ...              Yes   \n",
              "4                No     Fiber optic             No  ...               No   \n",
              "\n",
              "  TechSupport StreamingTV StreamingMovies        Contract PaperlessBilling  \\\n",
              "0          No          No              No  Month-to-month              Yes   \n",
              "1          No          No              No        One year               No   \n",
              "2          No          No              No  Month-to-month              Yes   \n",
              "3         Yes          No              No        One year               No   \n",
              "4          No          No              No  Month-to-month              Yes   \n",
              "\n",
              "               PaymentMethod MonthlyCharges  TotalCharges Churn  \n",
              "0           Electronic check          29.85         29.85    No  \n",
              "1               Mailed check          56.95        1889.5    No  \n",
              "2               Mailed check          53.85        108.15   Yes  \n",
              "3  Bank transfer (automatic)          42.30       1840.75    No  \n",
              "4           Electronic check          70.70        151.65   Yes  \n",
              "\n",
              "[5 rows x 21 columns]"
            ]
          },
          "execution_count": 5,
          "metadata": {},
          "output_type": "execute_result"
        }
      ],
      "source": [
        "df.head() # Display the first few rows of the dataframe"
      ]
    },
    {
      "cell_type": "markdown",
      "metadata": {},
      "source": [
        "**Checking missing values**"
      ]
    },
    {
      "cell_type": "code",
      "execution_count": 6,
      "metadata": {},
      "outputs": [
        {
          "data": {
            "text/plain": [
              "customerID          0\n",
              "gender              0\n",
              "SeniorCitizen       0\n",
              "Partner             0\n",
              "Dependents          0\n",
              "tenure              0\n",
              "PhoneService        0\n",
              "MultipleLines       0\n",
              "InternetService     0\n",
              "OnlineSecurity      0\n",
              "OnlineBackup        0\n",
              "DeviceProtection    0\n",
              "TechSupport         0\n",
              "StreamingTV         0\n",
              "StreamingMovies     0\n",
              "Contract            0\n",
              "PaperlessBilling    0\n",
              "PaymentMethod       0\n",
              "MonthlyCharges      0\n",
              "TotalCharges        0\n",
              "Churn               0\n",
              "dtype: int64"
            ]
          },
          "execution_count": 6,
          "metadata": {},
          "output_type": "execute_result"
        }
      ],
      "source": [
        "df.isnull().sum() # Check for missing values"
      ]
    },
    {
      "cell_type": "markdown",
      "metadata": {
        "id": "ZY3l0-AxO93d"
      },
      "source": [
        "---"
      ]
    },
    {
      "cell_type": "markdown",
      "metadata": {
        "id": "uFQo3ycuO-v6"
      },
      "source": [
        "## **Part B**"
      ]
    },
    {
      "cell_type": "markdown",
      "metadata": {},
      "source": [
        "### **Data Transformation** "
      ]
    },
    {
      "cell_type": "markdown",
      "metadata": {},
      "source": [
        "### ETL Pipeline: Telecom Churn Data Preprocessing & Feature Engineering\n",
        "\n",
        "The preprocessing pipeline is designed to transform the raw Telecom Customer Churn dataset into a clean, machine-learning-ready format. It standardises data quality, engineers meaningful service-based features, and applies robust encoding and scaling methods to support predictive modelling.\n",
        "\n",
        "#### **Dataset for EDA: ETL & Data Cleaning (No Scaling)**\n",
        "* **Purpose:** Prepare raw data for analysis by removing noise and ensuring data integrity.\n",
        "\n",
        "* **Main Steps:**\n",
        "    - Drop personally identifiable information (`customerID`).\n",
        "    - Convert `TotalCharges` to numeric and impute missing values using: `TotalCharges` = `MonthlyCharges` * `tenure`\n",
        "    - Convert `SeniorCitizen` to categorical variables\n",
        "    - Add derived features:\n",
        "    - **CustomerType:** Phone only / Internet only / Both  \n",
        "    - **NumInternetServices:** Count of active internet add-ons\n",
        "    - Handle missing values with median imputation for numerical columns.\n",
        "\n",
        "* **Output:** `telecom_customer_churn_cleaned.csv`  \n",
        "\n",
        "#### **Dataset of ML Training: Feature Encoding & Scaling**\n",
        "* **Purpose:** Prepare features for machine learning algorithms.\n",
        "\n",
        "* **Transformations:**\n",
        "    - **Numerical columns:** Standardized using `StandardScaler()`.\n",
        "    - **Categorical columns:** One-hot encoded using `OneHotEncoder()` (drop first to avoid multicollinearity).\n",
        "\n",
        "* **Output:** `telecom_customer_churn_encoded.csv`  \n",
        "\n",
        "\n",
        "---\n"
      ]
    },
    {
      "cell_type": "code",
      "execution_count": 7,
      "metadata": {},
      "outputs": [
        {
          "name": "stdout",
          "output_type": "stream",
          "text": [
            "✅ ETL + Encoding pipeline completed successfully.\n",
            "Cleaned shape: (7043, 22)\n",
            "Encoded shape: (7043, 28)\n",
            "Categorical features: 18\n",
            "Numeric features: 4\n",
            "Data shape after encoding: (7043, 28)\n",
            "\n",
            "New Columns after One-Hot Encoding:\n",
            "\n",
            "['tenure', 'MonthlyCharges', 'TotalCharges', 'NumInternetServices', 'gender_Male', 'SeniorCitizen_Yes', 'Partner_Yes', 'Dependents_Yes', 'PhoneService_Yes', 'MultipleLines_No phone service', 'MultipleLines_Yes', 'InternetService_Fiber optic', 'InternetService_No', 'OnlineSecurity_Yes', 'OnlineBackup_Yes', 'DeviceProtection_Yes', 'TechSupport_Yes', 'StreamingTV_Yes', 'StreamingMovies_Yes', 'Contract_One year', 'Contract_Two year', 'PaperlessBilling_Yes', 'PaymentMethod_Credit card (automatic)', 'PaymentMethod_Electronic check', 'PaymentMethod_Mailed check', 'Churn_Yes', 'CustomerType_Internet only', 'CustomerType_Phone only'] \n",
            "\n"
          ]
        }
      ],
      "source": [
        "# =========================================================\n",
        "# TELECOM CUSTOMER CHURN PIPELINE (CLEAN + ENCODED)\n",
        "# =========================================================\n",
        "\n",
        "import pandas as pd\n",
        "import numpy as np\n",
        "from sklearn.pipeline import Pipeline\n",
        "from sklearn.preprocessing import OneHotEncoder, StandardScaler\n",
        "from sklearn.impute import SimpleImputer\n",
        "from sklearn.compose import ColumnTransformer\n",
        "\n",
        "# =========================================================\n",
        "# 1️⃣ Add Derived Features\n",
        "# =========================================================\n",
        "def add_service_features(df):\n",
        "    \"\"\"Add engineered features related to service usage.\"\"\"\n",
        "    # CustomerType: Phone only, Internet only, Both\n",
        "    def service_type(row):\n",
        "        if row['InternetService'] == 'No':\n",
        "            return \"Phone only\"\n",
        "        elif row['PhoneService'] == 'No':\n",
        "            return \"Internet only\"\n",
        "        else:\n",
        "            return \"Both\"\n",
        "    df['CustomerType'] = df.apply(service_type, axis=1)\n",
        "\n",
        "    # Internet add-ons\n",
        "    internet_add_ons = [\n",
        "        \"OnlineSecurity\", \"OnlineBackup\", \"DeviceProtection\",\n",
        "        \"TechSupport\", \"StreamingTV\", \"StreamingMovies\"\n",
        "    ]\n",
        "\n",
        "    # Normalize \"No internet service\" to \"No\"\n",
        "    for col in internet_add_ons:\n",
        "        df[col] = df[col].replace(\"No internet service\", \"No\")\n",
        "\n",
        "    # Count number of active internet services\n",
        "    df[\"NumInternetServices\"] = (df[internet_add_ons] == \"Yes\").sum(axis=1)\n",
        "    return df\n",
        "\n",
        "# =========================================================\n",
        "# 2️⃣ ETL & Cleaning Stage (NO SCALING HERE)\n",
        "# =========================================================\n",
        "def etl_clean_data(df):\n",
        "    # Add new engineered features\n",
        "    df = add_service_features(df)\n",
        "\n",
        "    # Drop customerID (PII)\n",
        "    if 'customerID' in df.columns:\n",
        "        df.drop(\"customerID\", axis=1, inplace=True)\n",
        "\n",
        "    # Convert TotalCharges to numeric\n",
        "    df[\"TotalCharges\"] = pd.to_numeric(df[\"TotalCharges\"], errors=\"coerce\")\n",
        "\n",
        "    # Impute missing TotalCharges with domain logic\n",
        "    df.loc[df['TotalCharges'].isnull(), 'TotalCharges'] = (\n",
        "        df['MonthlyCharges'] * df['tenure']\n",
        "    )\n",
        "\n",
        "    # Convert SeniorCitizen to categorical\n",
        "    df['SeniorCitizen'] = df['SeniorCitizen'].map({1: 'Yes', 0: 'No'})\n",
        "\n",
        "    # Handle remaining missing values simply for EDA\n",
        "    df.fillna(df.median(numeric_only=True), inplace=True)\n",
        "\n",
        "    return df\n",
        "\n",
        "\n",
        "# =========================================================\n",
        "# 3️⃣ Encoding & Scaling for Modeling\n",
        "# =========================================================\n",
        "def build_encoded_dataset(df):\n",
        "    \"\"\"Apply one-hot encoding and scaling for ML model training.\"\"\"\n",
        "    categorical_features = df.select_dtypes(include=[\"object\"]).columns.tolist()\n",
        "    numeric_features = [\"tenure\", \"MonthlyCharges\", \"TotalCharges\", \"NumInternetServices\"]\n",
        "\n",
        "    preprocessor = ColumnTransformer(\n",
        "        transformers=[\n",
        "            (\"num\", StandardScaler(), numeric_features),\n",
        "            (\"cat\", OneHotEncoder(handle_unknown=\"ignore\", drop=\"first\"), categorical_features)\n",
        "        ]\n",
        "    )\n",
        "\n",
        "    # Transform into encoded DataFrame\n",
        "    encoded_array = preprocessor.fit_transform(df)\n",
        "\n",
        "    # Retrieve feature names\n",
        "    cat_feature_names = preprocessor.named_transformers_[\"cat\"].get_feature_names_out(categorical_features)\n",
        "    all_feature_names = numeric_features + list(cat_feature_names)\n",
        "\n",
        "    df_encoded = pd.DataFrame(encoded_array, columns=all_feature_names)\n",
        "\n",
        "    return df_encoded, preprocessor\n",
        "\n",
        "\n",
        "# =========================================================\n",
        "# 4️⃣ Run the Pipeline\n",
        "# =========================================================\n",
        "# Load and clean\n",
        "df_cleaned = etl_clean_data(df)\n",
        "\n",
        "# Save cleaned (unscaled) dataset\n",
        "df_cleaned.to_csv(\"dataset/processed/telecom_customer_churn_cleaned.csv\", index=False)\n",
        "\n",
        "# Encode and scale (for ML use)\n",
        "df_encoded, preprocessor = build_encoded_dataset(df_cleaned)\n",
        "\n",
        "# Save encoded dataset\n",
        "df_encoded.to_csv(\"dataset/processed/telecom_customer_churn_encoded.csv\", index=False)\n",
        "\n",
        "print(\"✅ ETL + Encoding pipeline completed successfully.\")\n",
        "print(f\"Cleaned shape: {df_cleaned.shape}\")\n",
        "print(f\"Encoded shape: {df_encoded.shape}\")\n",
        "print(f\"Categorical features: {len(df_cleaned.select_dtypes(include=['object']).columns)}\")\n",
        "print(f\"Numeric features: {len(df_cleaned.select_dtypes(exclude=['object']).columns)}\")\n",
        "print(f\"Data shape after encoding: {df_encoded.shape}\")\n",
        "print('\\nNew Columns after One-Hot Encoding:\\n')\n",
        "print(df_encoded.columns.tolist(), '\\n')\n",
        "\n",
        "# Verify no missing values remain\n",
        "assert df_cleaned.isnull().sum().sum() == 0, \"Missing values remain in the DataFrame\"\n",
        "\n",
        "\n"
      ]
    },
    {
      "cell_type": "code",
      "execution_count": 8,
      "metadata": {},
      "outputs": [
        {
          "name": "stdout",
          "output_type": "stream",
          "text": [
            "<class 'pandas.core.frame.DataFrame'>\n",
            "RangeIndex: 7043 entries, 0 to 7042\n",
            "Data columns (total 28 columns):\n",
            " #   Column                                 Non-Null Count  Dtype  \n",
            "---  ------                                 --------------  -----  \n",
            " 0   tenure                                 7043 non-null   float64\n",
            " 1   MonthlyCharges                         7043 non-null   float64\n",
            " 2   TotalCharges                           7043 non-null   float64\n",
            " 3   NumInternetServices                    7043 non-null   float64\n",
            " 4   gender_Male                            7043 non-null   float64\n",
            " 5   SeniorCitizen_Yes                      7043 non-null   float64\n",
            " 6   Partner_Yes                            7043 non-null   float64\n",
            " 7   Dependents_Yes                         7043 non-null   float64\n",
            " 8   PhoneService_Yes                       7043 non-null   float64\n",
            " 9   MultipleLines_No phone service         7043 non-null   float64\n",
            " 10  MultipleLines_Yes                      7043 non-null   float64\n",
            " 11  InternetService_Fiber optic            7043 non-null   float64\n",
            " 12  InternetService_No                     7043 non-null   float64\n",
            " 13  OnlineSecurity_Yes                     7043 non-null   float64\n",
            " 14  OnlineBackup_Yes                       7043 non-null   float64\n",
            " 15  DeviceProtection_Yes                   7043 non-null   float64\n",
            " 16  TechSupport_Yes                        7043 non-null   float64\n",
            " 17  StreamingTV_Yes                        7043 non-null   float64\n",
            " 18  StreamingMovies_Yes                    7043 non-null   float64\n",
            " 19  Contract_One year                      7043 non-null   float64\n",
            " 20  Contract_Two year                      7043 non-null   float64\n",
            " 21  PaperlessBilling_Yes                   7043 non-null   float64\n",
            " 22  PaymentMethod_Credit card (automatic)  7043 non-null   float64\n",
            " 23  PaymentMethod_Electronic check         7043 non-null   float64\n",
            " 24  PaymentMethod_Mailed check             7043 non-null   float64\n",
            " 25  Churn_Yes                              7043 non-null   float64\n",
            " 26  CustomerType_Internet only             7043 non-null   float64\n",
            " 27  CustomerType_Phone only                7043 non-null   float64\n",
            "dtypes: float64(28)\n",
            "memory usage: 1.5 MB\n"
          ]
        }
      ],
      "source": [
        "df_encoded.info()"
      ]
    },
    {
      "cell_type": "markdown",
      "metadata": {},
      "source": [
        "Remarks: \n",
        "1. After changing the data type, empty strings or invalid entries become NaN in TotolCharges column. the missing values of TotalCharges was imputed the formula assumes TotalCharges should roughly equal monthly charges multiplied by tenure.\n",
        "2. Cleaned dataset without scaling and encoding for better interpretability in EDA or dashboards."
      ]
    },
    {
      "cell_type": "markdown",
      "metadata": {},
      "source": [
        "---"
      ]
    },
    {
      "cell_type": "markdown",
      "metadata": {},
      "source": [
        "To be contined in Section 3 for Data Visualization."
      ]
    }
  ],
  "metadata": {
    "accelerator": "GPU",
    "colab": {
      "name": "Data Practitioner Jupyter Notebook.ipynb",
      "provenance": [],
      "toc_visible": true
    },
    "kernelspec": {
      "display_name": ".venv",
      "language": "python",
      "name": "python3"
    },
    "language_info": {
      "codemirror_mode": {
        "name": "ipython",
        "version": 3
      },
      "file_extension": ".py",
      "mimetype": "text/x-python",
      "name": "python",
      "nbconvert_exporter": "python",
      "pygments_lexer": "ipython3",
      "version": "3.12.8"
    },
    "orig_nbformat": 2
  },
  "nbformat": 4,
  "nbformat_minor": 2
}
