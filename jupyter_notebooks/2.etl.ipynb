{
  "cells": [
    {
      "cell_type": "markdown",
      "metadata": {
        "id": "0aStgWSO0E0E"
      },
      "source": [
        "# **Telecom Churn Analytics:** \n",
        "## ***Building Predictive Models to Improve Customer Retention***"
      ]
    },
    {
      "cell_type": "markdown",
      "metadata": {
        "id": "-mavJ8DibrcQ"
      },
      "source": [
        "### Section 2 - ETL 🧹🛠️"
      ]
    },
    {
      "cell_type": "markdown",
      "metadata": {},
      "source": [
        "---"
      ]
    },
    {
      "cell_type": "markdown",
      "metadata": {
        "id": "1eLEkw5O0ECa"
      },
      "source": [
        "### Objectives\n",
        "\n",
        "In this section, the aim is to prepare a cleaned dataset for visualization and analysis from the raw data files. There are ETL procedures form data extraction, data cleaning and processing to data load.\n",
        "\n",
        "\n",
        "### Inputs\n",
        "\n",
        "* Datasets used for this analysis is the retail data set from Kaggle (https://www.kaggle.com/datasets/mubeenshehzadi/customer-churn-dataset/). \n",
        "\n",
        "* 1 raw file will be used.\n",
        "    * [telecom_customer_churn.csv](../dataset/raw/telecom_customer_churn.csv) \n",
        "\n",
        "### Outputs\n",
        "\n",
        "* A cleaned dataset will be save as a CSV file below\n",
        "    * [telecom_customer_churn_cleaned.csv](../dataset/processed/telecom_customer_churn_cleaned\n",
        "    .csv)\n",
        "\n",
        "\n",
        "\n"
      ]
    },
    {
      "cell_type": "markdown",
      "metadata": {
        "id": "9uWZXH9LwoQg"
      },
      "source": [
        "---"
      ]
    },
    {
      "cell_type": "markdown",
      "metadata": {
        "id": "cqP-UeN-z3i2"
      },
      "source": [
        "### Change working directory"
      ]
    },
    {
      "cell_type": "markdown",
      "metadata": {},
      "source": [
        "* We are assuming you will store the notebooks in a subfolder, therefore when running the notebook in the editor, you will need to change the working directory"
      ]
    },
    {
      "cell_type": "code",
      "execution_count": 1,
      "metadata": {
        "id": "wZfF_j-Bz3i4",
        "outputId": "66943449-1436-4c3d-85c7-b85f9f78349b"
      },
      "outputs": [
        {
          "name": "stdout",
          "output_type": "stream",
          "text": [
            "You set a new current directory: /Users/denniskwok/Documents/data-analytics/telecom-churn-ml-prediction\n"
          ]
        }
      ],
      "source": [
        "import os\n",
        "\n",
        "os.chdir(os.path.dirname(os.getcwd()))\n",
        "current_dir = os.getcwd()\n",
        "print(f\"You set a new current directory: {current_dir}\")\n"
      ]
    },
    {
      "cell_type": "markdown",
      "metadata": {},
      "source": [
        "---"
      ]
    },
    {
      "cell_type": "markdown",
      "metadata": {},
      "source": [
        "## **Part A**"
      ]
    },
    {
      "cell_type": "markdown",
      "metadata": {},
      "source": [
        "### **Data Extraction**"
      ]
    },
    {
      "cell_type": "code",
      "execution_count": 2,
      "metadata": {},
      "outputs": [],
      "source": [
        "import numpy as np\n",
        "import pandas as pd"
      ]
    },
    {
      "cell_type": "markdown",
      "metadata": {},
      "source": [
        "#### Step 1: Load Dataset"
      ]
    },
    {
      "cell_type": "code",
      "execution_count": 3,
      "metadata": {},
      "outputs": [
        {
          "name": "stdout",
          "output_type": "stream",
          "text": [
            "Loaded dataset/raw/telecom_customer_churn.csv successfully.\n"
          ]
        }
      ],
      "source": [
        "# Load dataset from csv file\n",
        "def load_csv(filepath):\n",
        "    try:\n",
        "        df = pd.read_csv(filepath)\n",
        "        print(f\"Loaded {filepath} successfully.\")\n",
        "        return df\n",
        "    except FileNotFoundError:\n",
        "        print(f\"File not found: {filepath}\")\n",
        "        return pd.DataFrame()\n",
        "\n",
        "df = load_csv(\"dataset/raw/telecom_customer_churn.csv\")\n"
      ]
    },
    {
      "cell_type": "markdown",
      "metadata": {},
      "source": [
        "### Step 2: Overview The RAW Dataset"
      ]
    },
    {
      "cell_type": "markdown",
      "metadata": {},
      "source": [
        "**General dataframe information** "
      ]
    },
    {
      "cell_type": "code",
      "execution_count": 4,
      "metadata": {},
      "outputs": [
        {
          "name": "stdout",
          "output_type": "stream",
          "text": [
            "<class 'pandas.core.frame.DataFrame'>\n",
            "RangeIndex: 7043 entries, 0 to 7042\n",
            "Data columns (total 21 columns):\n",
            " #   Column            Non-Null Count  Dtype  \n",
            "---  ------            --------------  -----  \n",
            " 0   customerID        7043 non-null   object \n",
            " 1   gender            7043 non-null   object \n",
            " 2   SeniorCitizen     7043 non-null   int64  \n",
            " 3   Partner           7043 non-null   object \n",
            " 4   Dependents        7043 non-null   object \n",
            " 5   tenure            7043 non-null   int64  \n",
            " 6   PhoneService      7043 non-null   object \n",
            " 7   MultipleLines     7043 non-null   object \n",
            " 8   InternetService   7043 non-null   object \n",
            " 9   OnlineSecurity    7043 non-null   object \n",
            " 10  OnlineBackup      7043 non-null   object \n",
            " 11  DeviceProtection  7043 non-null   object \n",
            " 12  TechSupport       7043 non-null   object \n",
            " 13  StreamingTV       7043 non-null   object \n",
            " 14  StreamingMovies   7043 non-null   object \n",
            " 15  Contract          7043 non-null   object \n",
            " 16  PaperlessBilling  7043 non-null   object \n",
            " 17  PaymentMethod     7043 non-null   object \n",
            " 18  MonthlyCharges    7043 non-null   float64\n",
            " 19  TotalCharges      7043 non-null   object \n",
            " 20  Churn             7043 non-null   object \n",
            "dtypes: float64(1), int64(2), object(18)\n",
            "memory usage: 1.1+ MB\n"
          ]
        }
      ],
      "source": [
        "df.info() # Display dataframe information  "
      ]
    },
    {
      "cell_type": "markdown",
      "metadata": {},
      "source": [
        "**Dataframe data overview**"
      ]
    },
    {
      "cell_type": "code",
      "execution_count": 5,
      "metadata": {},
      "outputs": [
        {
          "data": {
            "text/html": [
              "<div>\n",
              "<style scoped>\n",
              "    .dataframe tbody tr th:only-of-type {\n",
              "        vertical-align: middle;\n",
              "    }\n",
              "\n",
              "    .dataframe tbody tr th {\n",
              "        vertical-align: top;\n",
              "    }\n",
              "\n",
              "    .dataframe thead th {\n",
              "        text-align: right;\n",
              "    }\n",
              "</style>\n",
              "<table border=\"1\" class=\"dataframe\">\n",
              "  <thead>\n",
              "    <tr style=\"text-align: right;\">\n",
              "      <th></th>\n",
              "      <th>customerID</th>\n",
              "      <th>gender</th>\n",
              "      <th>SeniorCitizen</th>\n",
              "      <th>Partner</th>\n",
              "      <th>Dependents</th>\n",
              "      <th>tenure</th>\n",
              "      <th>PhoneService</th>\n",
              "      <th>MultipleLines</th>\n",
              "      <th>InternetService</th>\n",
              "      <th>OnlineSecurity</th>\n",
              "      <th>...</th>\n",
              "      <th>DeviceProtection</th>\n",
              "      <th>TechSupport</th>\n",
              "      <th>StreamingTV</th>\n",
              "      <th>StreamingMovies</th>\n",
              "      <th>Contract</th>\n",
              "      <th>PaperlessBilling</th>\n",
              "      <th>PaymentMethod</th>\n",
              "      <th>MonthlyCharges</th>\n",
              "      <th>TotalCharges</th>\n",
              "      <th>Churn</th>\n",
              "    </tr>\n",
              "  </thead>\n",
              "  <tbody>\n",
              "    <tr>\n",
              "      <th>0</th>\n",
              "      <td>7590-VHVEG</td>\n",
              "      <td>Female</td>\n",
              "      <td>0</td>\n",
              "      <td>Yes</td>\n",
              "      <td>No</td>\n",
              "      <td>1</td>\n",
              "      <td>No</td>\n",
              "      <td>No phone service</td>\n",
              "      <td>DSL</td>\n",
              "      <td>No</td>\n",
              "      <td>...</td>\n",
              "      <td>No</td>\n",
              "      <td>No</td>\n",
              "      <td>No</td>\n",
              "      <td>No</td>\n",
              "      <td>Month-to-month</td>\n",
              "      <td>Yes</td>\n",
              "      <td>Electronic check</td>\n",
              "      <td>29.85</td>\n",
              "      <td>29.85</td>\n",
              "      <td>No</td>\n",
              "    </tr>\n",
              "    <tr>\n",
              "      <th>1</th>\n",
              "      <td>5575-GNVDE</td>\n",
              "      <td>Male</td>\n",
              "      <td>0</td>\n",
              "      <td>No</td>\n",
              "      <td>No</td>\n",
              "      <td>34</td>\n",
              "      <td>Yes</td>\n",
              "      <td>No</td>\n",
              "      <td>DSL</td>\n",
              "      <td>Yes</td>\n",
              "      <td>...</td>\n",
              "      <td>Yes</td>\n",
              "      <td>No</td>\n",
              "      <td>No</td>\n",
              "      <td>No</td>\n",
              "      <td>One year</td>\n",
              "      <td>No</td>\n",
              "      <td>Mailed check</td>\n",
              "      <td>56.95</td>\n",
              "      <td>1889.5</td>\n",
              "      <td>No</td>\n",
              "    </tr>\n",
              "    <tr>\n",
              "      <th>2</th>\n",
              "      <td>3668-QPYBK</td>\n",
              "      <td>Male</td>\n",
              "      <td>0</td>\n",
              "      <td>No</td>\n",
              "      <td>No</td>\n",
              "      <td>2</td>\n",
              "      <td>Yes</td>\n",
              "      <td>No</td>\n",
              "      <td>DSL</td>\n",
              "      <td>Yes</td>\n",
              "      <td>...</td>\n",
              "      <td>No</td>\n",
              "      <td>No</td>\n",
              "      <td>No</td>\n",
              "      <td>No</td>\n",
              "      <td>Month-to-month</td>\n",
              "      <td>Yes</td>\n",
              "      <td>Mailed check</td>\n",
              "      <td>53.85</td>\n",
              "      <td>108.15</td>\n",
              "      <td>Yes</td>\n",
              "    </tr>\n",
              "    <tr>\n",
              "      <th>3</th>\n",
              "      <td>7795-CFOCW</td>\n",
              "      <td>Male</td>\n",
              "      <td>0</td>\n",
              "      <td>No</td>\n",
              "      <td>No</td>\n",
              "      <td>45</td>\n",
              "      <td>No</td>\n",
              "      <td>No phone service</td>\n",
              "      <td>DSL</td>\n",
              "      <td>Yes</td>\n",
              "      <td>...</td>\n",
              "      <td>Yes</td>\n",
              "      <td>Yes</td>\n",
              "      <td>No</td>\n",
              "      <td>No</td>\n",
              "      <td>One year</td>\n",
              "      <td>No</td>\n",
              "      <td>Bank transfer (automatic)</td>\n",
              "      <td>42.30</td>\n",
              "      <td>1840.75</td>\n",
              "      <td>No</td>\n",
              "    </tr>\n",
              "    <tr>\n",
              "      <th>4</th>\n",
              "      <td>9237-HQITU</td>\n",
              "      <td>Female</td>\n",
              "      <td>0</td>\n",
              "      <td>No</td>\n",
              "      <td>No</td>\n",
              "      <td>2</td>\n",
              "      <td>Yes</td>\n",
              "      <td>No</td>\n",
              "      <td>Fiber optic</td>\n",
              "      <td>No</td>\n",
              "      <td>...</td>\n",
              "      <td>No</td>\n",
              "      <td>No</td>\n",
              "      <td>No</td>\n",
              "      <td>No</td>\n",
              "      <td>Month-to-month</td>\n",
              "      <td>Yes</td>\n",
              "      <td>Electronic check</td>\n",
              "      <td>70.70</td>\n",
              "      <td>151.65</td>\n",
              "      <td>Yes</td>\n",
              "    </tr>\n",
              "  </tbody>\n",
              "</table>\n",
              "<p>5 rows × 21 columns</p>\n",
              "</div>"
            ],
            "text/plain": [
              "   customerID  gender  SeniorCitizen Partner Dependents  tenure PhoneService  \\\n",
              "0  7590-VHVEG  Female              0     Yes         No       1           No   \n",
              "1  5575-GNVDE    Male              0      No         No      34          Yes   \n",
              "2  3668-QPYBK    Male              0      No         No       2          Yes   \n",
              "3  7795-CFOCW    Male              0      No         No      45           No   \n",
              "4  9237-HQITU  Female              0      No         No       2          Yes   \n",
              "\n",
              "      MultipleLines InternetService OnlineSecurity  ... DeviceProtection  \\\n",
              "0  No phone service             DSL             No  ...               No   \n",
              "1                No             DSL            Yes  ...              Yes   \n",
              "2                No             DSL            Yes  ...               No   \n",
              "3  No phone service             DSL            Yes  ...              Yes   \n",
              "4                No     Fiber optic             No  ...               No   \n",
              "\n",
              "  TechSupport StreamingTV StreamingMovies        Contract PaperlessBilling  \\\n",
              "0          No          No              No  Month-to-month              Yes   \n",
              "1          No          No              No        One year               No   \n",
              "2          No          No              No  Month-to-month              Yes   \n",
              "3         Yes          No              No        One year               No   \n",
              "4          No          No              No  Month-to-month              Yes   \n",
              "\n",
              "               PaymentMethod MonthlyCharges  TotalCharges Churn  \n",
              "0           Electronic check          29.85         29.85    No  \n",
              "1               Mailed check          56.95        1889.5    No  \n",
              "2               Mailed check          53.85        108.15   Yes  \n",
              "3  Bank transfer (automatic)          42.30       1840.75    No  \n",
              "4           Electronic check          70.70        151.65   Yes  \n",
              "\n",
              "[5 rows x 21 columns]"
            ]
          },
          "execution_count": 5,
          "metadata": {},
          "output_type": "execute_result"
        }
      ],
      "source": [
        "df.head() # Display the first few rows of the dataframe"
      ]
    },
    {
      "cell_type": "markdown",
      "metadata": {},
      "source": [
        "**Checking missing values**"
      ]
    },
    {
      "cell_type": "code",
      "execution_count": 6,
      "metadata": {},
      "outputs": [
        {
          "data": {
            "text/plain": [
              "customerID          0\n",
              "gender              0\n",
              "SeniorCitizen       0\n",
              "Partner             0\n",
              "Dependents          0\n",
              "tenure              0\n",
              "PhoneService        0\n",
              "MultipleLines       0\n",
              "InternetService     0\n",
              "OnlineSecurity      0\n",
              "OnlineBackup        0\n",
              "DeviceProtection    0\n",
              "TechSupport         0\n",
              "StreamingTV         0\n",
              "StreamingMovies     0\n",
              "Contract            0\n",
              "PaperlessBilling    0\n",
              "PaymentMethod       0\n",
              "MonthlyCharges      0\n",
              "TotalCharges        0\n",
              "Churn               0\n",
              "dtype: int64"
            ]
          },
          "execution_count": 6,
          "metadata": {},
          "output_type": "execute_result"
        }
      ],
      "source": [
        "df.isnull().sum() # Check for missing values"
      ]
    },
    {
      "cell_type": "markdown",
      "metadata": {
        "id": "ZY3l0-AxO93d"
      },
      "source": [
        "---"
      ]
    },
    {
      "cell_type": "markdown",
      "metadata": {
        "id": "uFQo3ycuO-v6"
      },
      "source": [
        "## **Part B**"
      ]
    },
    {
      "cell_type": "markdown",
      "metadata": {},
      "source": [
        "### **Data Transformation** \n",
        "### *Data cleaning and processing pipeline*"
      ]
    },
    {
      "cell_type": "markdown",
      "metadata": {},
      "source": [
        "### 🧠 Pipeline Summary: Telecom Churn Data Preprocessing & Feature Engineering\n",
        "\n",
        "The preprocessing pipeline is designed to transform the raw Telecom Customer Churn dataset into a clean, machine-learning-ready format. It standardises data quality, engineers meaningful service-based features, and applies robust encoding and scaling methods to support predictive modelling.\n",
        "\n",
        "**Steps in the ETL Pipeline:**\n",
        "\n",
        "1️⃣ Data Loading & Cleaning\n",
        "\n",
        "* Source: dataset/raw/Telecom_Customer_Churn.csv\n",
        "\n",
        "* Removes personally identifiable information (customerID).\n",
        "\n",
        "* Converts TotalCharges to numeric and imputes missing values using\n",
        "TotalCharges = MonthlyCharges × tenure.\n",
        "\n",
        "* Ensures the dataset contains no missing values before model training.\n",
        "\n",
        "2️⃣ Feature Engineering\n",
        "\n",
        "* Creates a new CustomerType feature categorising users as: \"Phone only\", \"Internet only\", \"Both\"\n",
        "\n",
        "* Normalises inconsistent entries (“No internet service” → “No”).\n",
        "\n",
        "* Derives NumInternetServices, counting the number of active internet-based add-ons such as\n",
        "OnlineSecurity, OnlineBackup, TechSupport, StreamingTV, etc. This feature quantifies customer engagement with telecom products.\n",
        "\n",
        "3️⃣ Preprocessing Pipelines\n",
        "\n",
        "🔹 Numeric Pipeline\n",
        "\n",
        "* Features: tenure, MonthlyCharges, TotalCharges, NumInternetServices\n",
        "\n",
        "    Steps:\n",
        "\n",
        "    * SimpleImputer(strategy='median') – handles any residual missing numeric values.\n",
        "\n",
        "    * StandardScaler() – standardises features to mean = 0, std = 1 for stable model performance.\n",
        "\n",
        "🔹 Categorical Pipeline\n",
        "\n",
        "*   Features: all non-numeric columns (e.g., Contract, PaymentMethod, Gender, CustomerType, etc.)\n",
        "\n",
        "    Steps:\n",
        "\n",
        "    * SimpleImputer(strategy='most_frequent') – fills missing categorical values.\n",
        "\n",
        "    * OneHotEncoder(handle_unknown='ignore', drop='first') – converts categories into binary variables, avoiding multicollinearity.\n",
        "\n",
        "    Both pipelines are combined via a ColumnTransformer into a single unified preprocessing step.\n",
        "\n",
        "4️⃣ Outputs & Diagnostics\n",
        "\n",
        "* The pipeline produces a fully encoded numeric feature matrix ready for model training.\n",
        "\n",
        "* Prints detailed diagnostics:\n",
        "\n",
        "    * Number of categorical and numeric features.\n",
        "\n",
        "    * Mapping of categories per feature.\n",
        "\n",
        "    * Final encoded column names.\n",
        "\n",
        "* Asserts that no missing values remain in the final dataset."
      ]
    },
    {
      "cell_type": "code",
      "execution_count": 7,
      "metadata": {},
      "outputs": [
        {
          "name": "stdout",
          "output_type": "stream",
          "text": [
            "✅ ETL and preprocessing pipeline built successfully!\n",
            "Data shape after cleaning: (7043, 22)\n",
            "Categorical features: 17\n",
            "Numeric features: 5\n",
            "Data shape after encoding: (7043, 27)\n",
            "\n",
            "OneHotEncoder categories for each feature:\n",
            "\n",
            "gender: ['Female' 'Male']\n",
            "Partner: ['No' 'Yes']\n",
            "Dependents: ['No' 'Yes']\n",
            "PhoneService: ['No' 'Yes']\n",
            "MultipleLines: ['No' 'No phone service' 'Yes']\n",
            "InternetService: ['DSL' 'Fiber optic' 'No']\n",
            "OnlineSecurity: ['No' 'Yes']\n",
            "OnlineBackup: ['No' 'Yes']\n",
            "DeviceProtection: ['No' 'Yes']\n",
            "TechSupport: ['No' 'Yes']\n",
            "StreamingTV: ['No' 'Yes']\n",
            "StreamingMovies: ['No' 'Yes']\n",
            "Contract: ['Month-to-month' 'One year' 'Two year']\n",
            "PaperlessBilling: ['No' 'Yes']\n",
            "PaymentMethod: ['Bank transfer (automatic)' 'Credit card (automatic)' 'Electronic check'\n",
            " 'Mailed check']\n",
            "Churn: ['No' 'Yes']\n",
            "CustomerType: ['Both' 'Internet only' 'Phone only']\n",
            "\n",
            "New Columns after One-Hot Encoding:\n",
            "\n",
            "['gender_Male', 'Partner_Yes', 'Dependents_Yes', 'PhoneService_Yes', 'MultipleLines_No phone service', 'MultipleLines_Yes', 'InternetService_Fiber optic', 'InternetService_No', 'OnlineSecurity_Yes', 'OnlineBackup_Yes', 'DeviceProtection_Yes', 'TechSupport_Yes', 'StreamingTV_Yes', 'StreamingMovies_Yes', 'Contract_One year', 'Contract_Two year', 'PaperlessBilling_Yes', 'PaymentMethod_Credit card (automatic)', 'PaymentMethod_Electronic check', 'PaymentMethod_Mailed check', 'Churn_Yes', 'CustomerType_Internet only', 'CustomerType_Phone only'] \n",
            "\n"
          ]
        }
      ],
      "source": [
        "import pandas as pd\n",
        "import numpy as np\n",
        "from sklearn.pipeline import Pipeline\n",
        "from sklearn.preprocessing import OneHotEncoder, StandardScaler\n",
        "from sklearn.impute import SimpleImputer\n",
        "from sklearn.compose import ColumnTransformer\n",
        "\n",
        "# =========================\n",
        "# 1. Add service-based features\n",
        "# =========================\n",
        "def add_service_features(df):\n",
        "    # CustomerType: Phone only, Internet only, Both\n",
        "    def service_type(row):\n",
        "        if row['InternetService'] == 'No':\n",
        "            return \"Phone only\"\n",
        "        elif row['PhoneService'] == 'No':\n",
        "            return \"Internet only\"\n",
        "        else:\n",
        "            return \"Both\"\n",
        "    df['CustomerType'] = df.apply(service_type, axis=1)\n",
        "\n",
        "    # Internet add-ons\n",
        "    internet_add_ons = [\n",
        "        \"OnlineSecurity\", \"OnlineBackup\", \"DeviceProtection\",\n",
        "        \"TechSupport\", \"StreamingTV\", \"StreamingMovies\"\n",
        "    ]\n",
        "\n",
        "    # Normalize \"No internet service\" to \"No\"\n",
        "    for col in internet_add_ons:\n",
        "        df[col] = df[col].replace(\"No internet service\", \"No\")\n",
        "\n",
        "    # Count number of \"Yes\" internet services\n",
        "    df[\"NumInternetServices\"] = (df[internet_add_ons] == \"Yes\").sum(axis=1)\n",
        "\n",
        "    return df\n",
        "\n",
        "# =========================\n",
        "# 2. Load and clean dataset\n",
        "# =========================\n",
        "def etl_clean_data(filepath):\n",
        "    df = pd.read_csv(filepath)\n",
        "\n",
        "    # Add engineered features\n",
        "    df = add_service_features(df)\n",
        "\n",
        "    # Drop PII\n",
        "    if 'customerID' in df.columns:\n",
        "        df.drop(\"customerID\", axis=1, inplace=True)\n",
        "\n",
        "    # Convert TotalCharges to numeric\n",
        "    df[\"TotalCharges\"] = pd.to_numeric(df[\"TotalCharges\"], errors=\"coerce\")\n",
        "\n",
        "    # Impute missing TotalCharges using MonthlyCharges * tenure\n",
        "    df.loc[df['TotalCharges'].isnull(), 'TotalCharges'] = (\n",
        "        df['MonthlyCharges'] * df['tenure']\n",
        "    )\n",
        "\n",
        "    return df\n",
        "\n",
        "# =========================\n",
        "# 3. Preprocessing Pipelines\n",
        "# =========================\n",
        "def build_preprocessor(df):\n",
        "    categorical_features = df.select_dtypes(include=[\"object\"]).columns.tolist()\n",
        "    numeric_features = [\"tenure\", \"MonthlyCharges\", \"TotalCharges\", \"NumInternetServices\"]\n",
        "\n",
        "    numeric_transformer = Pipeline(steps=[\n",
        "        (\"imputer\", SimpleImputer(strategy=\"median\")),\n",
        "        (\"scaler\", StandardScaler())\n",
        "    ])\n",
        "\n",
        "    categorical_transformer = Pipeline(steps=[\n",
        "        (\"imputer\", SimpleImputer(strategy=\"most_frequent\")),\n",
        "        (\"encoder\", OneHotEncoder(handle_unknown=\"ignore\", drop=\"first\"))\n",
        "    ])\n",
        "\n",
        "    preprocessor = ColumnTransformer(\n",
        "        transformers=[\n",
        "            (\"num\", numeric_transformer, numeric_features),\n",
        "            (\"cat\", categorical_transformer, categorical_features)\n",
        "        ]\n",
        "    )\n",
        "\n",
        "    return preprocessor\n",
        "\n",
        "# =========================\n",
        "# Prepare cleaned and encoded dataset for usage\n",
        "# =========================\n",
        "df = etl_clean_data(\"dataset/raw/Telecom_Customer_Churn.csv\")\n",
        "preprocessor = build_preprocessor(df)\n",
        "df_encoded = preprocessor.fit_transform(df)\n",
        "\n",
        "print(\"✅ ETL and preprocessing pipeline built successfully!\")\n",
        "print(f\"Data shape after cleaning: {df.shape}\")\n",
        "print(f\"Categorical features: {len(df.select_dtypes(include=['object']).columns)}\")\n",
        "print(f\"Numeric features: {len(df.select_dtypes(exclude=['object']).columns)}\")\n",
        "print(f\"Data shape after encoding: {df_encoded.shape}\")\n",
        "# Get the OneHotEncoder from the preprocessor's categorical transformer\n",
        "encoder = preprocessor.named_transformers_['cat'].named_steps['encoder']\n",
        "\n",
        "# Get categorical feature names from the preprocessor\n",
        "categorical_features = preprocessor.transformers_[1][2]\n",
        "\n",
        "# Show the categories for each categorical feature\n",
        "print('\\nOneHotEncoder categories for each feature:\\n')\n",
        "for feature, cats in zip(categorical_features, encoder.categories_):\n",
        "    print(f\"{feature}: {cats}\")\n",
        "\n",
        "print('\\nNew Columns after One-Hot Encoding:\\n')\n",
        "# Get the new column names after one-hot encoding\n",
        "onehot_columns = encoder.get_feature_names_out(categorical_features)\n",
        "print(onehot_columns.tolist(), '\\n')\n",
        "\n",
        "# Verify no missing values remain\n",
        "assert df.isnull().sum().sum() == 0, \"Missing values remain in the DataFrame\"\n",
        "\n"
      ]
    },
    {
      "cell_type": "markdown",
      "metadata": {},
      "source": [
        "Remarks: After changing the data type, empty strings or invalid entries become NaN in TotolCharges column. the missing values of TotalCharges was imputed the formula assumes TotalCharges should roughly equal monthly charges multiplied by tenure."
      ]
    },
    {
      "cell_type": "markdown",
      "metadata": {},
      "source": [
        "---"
      ]
    },
    {
      "cell_type": "markdown",
      "metadata": {
        "id": "ltNetd085qHf"
      },
      "source": [
        "## **Part C**"
      ]
    },
    {
      "cell_type": "markdown",
      "metadata": {
        "id": "aKlnIozA4eQO",
        "outputId": "fd09bc1f-adb1-4511-f6ce-492a6af570c0"
      },
      "source": [
        "### **Data Load** \n",
        "### *Creating cleaned and encoded dataset*"
      ]
    },
    {
      "cell_type": "markdown",
      "metadata": {},
      "source": [
        "* The resulting preprocessor in the pipeline can be directly plugged into an end-to-end machine learning workflow. Now we save a cleaned and encoded dataset for further use in ML model."
      ]
    },
    {
      "cell_type": "code",
      "execution_count": 8,
      "metadata": {},
      "outputs": [
        {
          "name": "stdout",
          "output_type": "stream",
          "text": [
            "Cleaned and encoded dataset exported to dataset/processed/\n"
          ]
        }
      ],
      "source": [
        "# Export the cleaned dataframe to a CSV file in the folder for processed CSV\n",
        "df_cleaned = df.copy()\n",
        "df_cleaned.to_csv('dataset/processed/telecom_customer_churn_cleaned.csv', index=False)\n",
        "\n",
        "import os\n",
        "\n",
        "# Get encoded column names\n",
        "encoded_columns = encoder.get_feature_names_out(categorical_features)\n",
        "\n",
        "# Define numeric features\n",
        "numeric_features = [\"tenure\", \"MonthlyCharges\", \"TotalCharges\", \"NumInternetServices\"]\n",
        "\n",
        "# Combine numeric features (already scaled) and encoded categorical features\n",
        "df_encoded_final = pd.DataFrame(df_encoded, columns=list(encoded_columns) + numeric_features)\n",
        "\n",
        "# Save to CSV\n",
        "os.makedirs(\"dataset/processed\", exist_ok=True)\n",
        "df_encoded_final.to_csv(\"dataset/processed/telecom_customer_churn_encoded.csv\", index=False)\n",
        "\n",
        "\n",
        "\n",
        "print(f'Cleaned and encoded dataset exported to dataset/processed/')"
      ]
    },
    {
      "cell_type": "markdown",
      "metadata": {},
      "source": [
        "---"
      ]
    },
    {
      "cell_type": "markdown",
      "metadata": {},
      "source": [
        "To be contined in Section 3 for Data Visualization."
      ]
    }
  ],
  "metadata": {
    "accelerator": "GPU",
    "colab": {
      "name": "Data Practitioner Jupyter Notebook.ipynb",
      "provenance": [],
      "toc_visible": true
    },
    "kernelspec": {
      "display_name": ".venv",
      "language": "python",
      "name": "python3"
    },
    "language_info": {
      "codemirror_mode": {
        "name": "ipython",
        "version": 3
      },
      "file_extension": ".py",
      "mimetype": "text/x-python",
      "name": "python",
      "nbconvert_exporter": "python",
      "pygments_lexer": "ipython3",
      "version": "3.12.8"
    },
    "orig_nbformat": 2
  },
  "nbformat": 4,
  "nbformat_minor": 2
}
