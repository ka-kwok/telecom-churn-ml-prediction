{
  "cells": [
    {
      "cell_type": "markdown",
      "metadata": {
        "id": "0aStgWSO0E0E"
      },
      "source": [
        "# **Telecom Churn Analytics:** \n",
        "## ***Building Predictive Models to Improve Customer Retention***"
      ]
    },
    {
      "cell_type": "markdown",
      "metadata": {
        "id": "-mavJ8DibrcQ"
      },
      "source": [
        "### Section 2 - ETL 🧹🛠️"
      ]
    },
    {
      "cell_type": "markdown",
      "metadata": {},
      "source": [
        "---"
      ]
    },
    {
      "cell_type": "markdown",
      "metadata": {
        "id": "1eLEkw5O0ECa"
      },
      "source": [
        "### Objectives\n",
        "\n",
        "In this section, the aim is to prepare a cleaned dataset for visualization and analysis from the raw data files. There are ETL procedures form data extraction, data cleaning and processing to data load.\n",
        "\n",
        "\n",
        "### Inputs\n",
        "\n",
        "* Datasets used for this analysis is the retail data set from Kaggle (https://www.kaggle.com/datasets/mubeenshehzadi/customer-churn-dataset/). \n",
        "\n",
        "* 1 raw file will be used.\n",
        "    * [telecom_customer_churn.csv](../dataset/raw/telecom_customer_churn.csv) \n",
        "\n",
        "### Outputs\n",
        "\n",
        "* A cleaned dataset will be save as a CSV file below\n",
        "    * [telecom_customer_churn_cleaned.csv](../dataset/processed/telecom_customer_churn_cleaned\n",
        "    .csv)\n",
        "\n",
        "\n",
        "\n"
      ]
    },
    {
      "cell_type": "markdown",
      "metadata": {
        "id": "9uWZXH9LwoQg"
      },
      "source": [
        "---"
      ]
    },
    {
      "cell_type": "markdown",
      "metadata": {
        "id": "cqP-UeN-z3i2"
      },
      "source": [
        "### Change working directory"
      ]
    },
    {
      "cell_type": "markdown",
      "metadata": {},
      "source": [
        "* We are assuming you will store the notebooks in a subfolder, therefore when running the notebook in the editor, you will need to change the working directory"
      ]
    },
    {
      "cell_type": "code",
      "execution_count": 1,
      "metadata": {
        "id": "wZfF_j-Bz3i4",
        "outputId": "66943449-1436-4c3d-85c7-b85f9f78349b"
      },
      "outputs": [
        {
          "name": "stdout",
          "output_type": "stream",
          "text": [
            "You set a new current directory: /Users/denniskwok/Documents/data-analytics/telecom-churn-ml-prediction\n"
          ]
        }
      ],
      "source": [
        "import os\n",
        "\n",
        "os.chdir(os.path.dirname(os.getcwd()))\n",
        "current_dir = os.getcwd()\n",
        "print(f\"You set a new current directory: {current_dir}\")\n"
      ]
    },
    {
      "cell_type": "markdown",
      "metadata": {},
      "source": [
        "---"
      ]
    },
    {
      "cell_type": "markdown",
      "metadata": {},
      "source": [
        "## **Part A**"
      ]
    },
    {
      "cell_type": "markdown",
      "metadata": {},
      "source": [
        "### **Data Extraction**"
      ]
    },
    {
      "cell_type": "code",
      "execution_count": 2,
      "metadata": {},
      "outputs": [],
      "source": [
        "import numpy as np\n",
        "import pandas as pd"
      ]
    },
    {
      "cell_type": "markdown",
      "metadata": {},
      "source": [
        "#### Step 1: Load Dataset"
      ]
    },
    {
      "cell_type": "code",
      "execution_count": 3,
      "metadata": {},
      "outputs": [
        {
          "name": "stdout",
          "output_type": "stream",
          "text": [
            "Loaded dataset/raw/telecom_customer_churn.csv successfully.\n"
          ]
        }
      ],
      "source": [
        "# Load dataset from csv file\n",
        "def load_csv(filepath):\n",
        "    try:\n",
        "        df = pd.read_csv(filepath)\n",
        "        print(f\"Loaded {filepath} successfully.\")\n",
        "        return df\n",
        "    except FileNotFoundError:\n",
        "        print(f\"File not found: {filepath}\")\n",
        "        return pd.DataFrame()\n",
        "\n",
        "df = load_csv(\"dataset/raw/telecom_customer_churn.csv\")\n"
      ]
    },
    {
      "cell_type": "markdown",
      "metadata": {},
      "source": [
        "### Step 2: Overview The RAW Dataset"
      ]
    },
    {
      "cell_type": "markdown",
      "metadata": {},
      "source": [
        "**General dataframe information** "
      ]
    },
    {
      "cell_type": "code",
      "execution_count": 4,
      "metadata": {},
      "outputs": [
        {
          "name": "stdout",
          "output_type": "stream",
          "text": [
            "<class 'pandas.core.frame.DataFrame'>\n",
            "RangeIndex: 7043 entries, 0 to 7042\n",
            "Data columns (total 21 columns):\n",
            " #   Column            Non-Null Count  Dtype  \n",
            "---  ------            --------------  -----  \n",
            " 0   customerID        7043 non-null   object \n",
            " 1   gender            7043 non-null   object \n",
            " 2   SeniorCitizen     7043 non-null   int64  \n",
            " 3   Partner           7043 non-null   object \n",
            " 4   Dependents        7043 non-null   object \n",
            " 5   tenure            7043 non-null   int64  \n",
            " 6   PhoneService      7043 non-null   object \n",
            " 7   MultipleLines     7043 non-null   object \n",
            " 8   InternetService   7043 non-null   object \n",
            " 9   OnlineSecurity    7043 non-null   object \n",
            " 10  OnlineBackup      7043 non-null   object \n",
            " 11  DeviceProtection  7043 non-null   object \n",
            " 12  TechSupport       7043 non-null   object \n",
            " 13  StreamingTV       7043 non-null   object \n",
            " 14  StreamingMovies   7043 non-null   object \n",
            " 15  Contract          7043 non-null   object \n",
            " 16  PaperlessBilling  7043 non-null   object \n",
            " 17  PaymentMethod     7043 non-null   object \n",
            " 18  MonthlyCharges    7043 non-null   float64\n",
            " 19  TotalCharges      7043 non-null   object \n",
            " 20  Churn             7043 non-null   object \n",
            "dtypes: float64(1), int64(2), object(18)\n",
            "memory usage: 1.1+ MB\n"
          ]
        }
      ],
      "source": [
        "df.info() # Display dataframe information  "
      ]
    },
    {
      "cell_type": "markdown",
      "metadata": {},
      "source": [
        "**Dataframe data overview**"
      ]
    },
    {
      "cell_type": "code",
      "execution_count": 5,
      "metadata": {},
      "outputs": [
        {
          "data": {
            "text/html": [
              "<div>\n",
              "<style scoped>\n",
              "    .dataframe tbody tr th:only-of-type {\n",
              "        vertical-align: middle;\n",
              "    }\n",
              "\n",
              "    .dataframe tbody tr th {\n",
              "        vertical-align: top;\n",
              "    }\n",
              "\n",
              "    .dataframe thead th {\n",
              "        text-align: right;\n",
              "    }\n",
              "</style>\n",
              "<table border=\"1\" class=\"dataframe\">\n",
              "  <thead>\n",
              "    <tr style=\"text-align: right;\">\n",
              "      <th></th>\n",
              "      <th>customerID</th>\n",
              "      <th>gender</th>\n",
              "      <th>SeniorCitizen</th>\n",
              "      <th>Partner</th>\n",
              "      <th>Dependents</th>\n",
              "      <th>tenure</th>\n",
              "      <th>PhoneService</th>\n",
              "      <th>MultipleLines</th>\n",
              "      <th>InternetService</th>\n",
              "      <th>OnlineSecurity</th>\n",
              "      <th>...</th>\n",
              "      <th>DeviceProtection</th>\n",
              "      <th>TechSupport</th>\n",
              "      <th>StreamingTV</th>\n",
              "      <th>StreamingMovies</th>\n",
              "      <th>Contract</th>\n",
              "      <th>PaperlessBilling</th>\n",
              "      <th>PaymentMethod</th>\n",
              "      <th>MonthlyCharges</th>\n",
              "      <th>TotalCharges</th>\n",
              "      <th>Churn</th>\n",
              "    </tr>\n",
              "  </thead>\n",
              "  <tbody>\n",
              "    <tr>\n",
              "      <th>0</th>\n",
              "      <td>7590-VHVEG</td>\n",
              "      <td>Female</td>\n",
              "      <td>0</td>\n",
              "      <td>Yes</td>\n",
              "      <td>No</td>\n",
              "      <td>1</td>\n",
              "      <td>No</td>\n",
              "      <td>No phone service</td>\n",
              "      <td>DSL</td>\n",
              "      <td>No</td>\n",
              "      <td>...</td>\n",
              "      <td>No</td>\n",
              "      <td>No</td>\n",
              "      <td>No</td>\n",
              "      <td>No</td>\n",
              "      <td>Month-to-month</td>\n",
              "      <td>Yes</td>\n",
              "      <td>Electronic check</td>\n",
              "      <td>29.85</td>\n",
              "      <td>29.85</td>\n",
              "      <td>No</td>\n",
              "    </tr>\n",
              "    <tr>\n",
              "      <th>1</th>\n",
              "      <td>5575-GNVDE</td>\n",
              "      <td>Male</td>\n",
              "      <td>0</td>\n",
              "      <td>No</td>\n",
              "      <td>No</td>\n",
              "      <td>34</td>\n",
              "      <td>Yes</td>\n",
              "      <td>No</td>\n",
              "      <td>DSL</td>\n",
              "      <td>Yes</td>\n",
              "      <td>...</td>\n",
              "      <td>Yes</td>\n",
              "      <td>No</td>\n",
              "      <td>No</td>\n",
              "      <td>No</td>\n",
              "      <td>One year</td>\n",
              "      <td>No</td>\n",
              "      <td>Mailed check</td>\n",
              "      <td>56.95</td>\n",
              "      <td>1889.5</td>\n",
              "      <td>No</td>\n",
              "    </tr>\n",
              "    <tr>\n",
              "      <th>2</th>\n",
              "      <td>3668-QPYBK</td>\n",
              "      <td>Male</td>\n",
              "      <td>0</td>\n",
              "      <td>No</td>\n",
              "      <td>No</td>\n",
              "      <td>2</td>\n",
              "      <td>Yes</td>\n",
              "      <td>No</td>\n",
              "      <td>DSL</td>\n",
              "      <td>Yes</td>\n",
              "      <td>...</td>\n",
              "      <td>No</td>\n",
              "      <td>No</td>\n",
              "      <td>No</td>\n",
              "      <td>No</td>\n",
              "      <td>Month-to-month</td>\n",
              "      <td>Yes</td>\n",
              "      <td>Mailed check</td>\n",
              "      <td>53.85</td>\n",
              "      <td>108.15</td>\n",
              "      <td>Yes</td>\n",
              "    </tr>\n",
              "    <tr>\n",
              "      <th>3</th>\n",
              "      <td>7795-CFOCW</td>\n",
              "      <td>Male</td>\n",
              "      <td>0</td>\n",
              "      <td>No</td>\n",
              "      <td>No</td>\n",
              "      <td>45</td>\n",
              "      <td>No</td>\n",
              "      <td>No phone service</td>\n",
              "      <td>DSL</td>\n",
              "      <td>Yes</td>\n",
              "      <td>...</td>\n",
              "      <td>Yes</td>\n",
              "      <td>Yes</td>\n",
              "      <td>No</td>\n",
              "      <td>No</td>\n",
              "      <td>One year</td>\n",
              "      <td>No</td>\n",
              "      <td>Bank transfer (automatic)</td>\n",
              "      <td>42.30</td>\n",
              "      <td>1840.75</td>\n",
              "      <td>No</td>\n",
              "    </tr>\n",
              "    <tr>\n",
              "      <th>4</th>\n",
              "      <td>9237-HQITU</td>\n",
              "      <td>Female</td>\n",
              "      <td>0</td>\n",
              "      <td>No</td>\n",
              "      <td>No</td>\n",
              "      <td>2</td>\n",
              "      <td>Yes</td>\n",
              "      <td>No</td>\n",
              "      <td>Fiber optic</td>\n",
              "      <td>No</td>\n",
              "      <td>...</td>\n",
              "      <td>No</td>\n",
              "      <td>No</td>\n",
              "      <td>No</td>\n",
              "      <td>No</td>\n",
              "      <td>Month-to-month</td>\n",
              "      <td>Yes</td>\n",
              "      <td>Electronic check</td>\n",
              "      <td>70.70</td>\n",
              "      <td>151.65</td>\n",
              "      <td>Yes</td>\n",
              "    </tr>\n",
              "  </tbody>\n",
              "</table>\n",
              "<p>5 rows × 21 columns</p>\n",
              "</div>"
            ],
            "text/plain": [
              "   customerID  gender  SeniorCitizen Partner Dependents  tenure PhoneService  \\\n",
              "0  7590-VHVEG  Female              0     Yes         No       1           No   \n",
              "1  5575-GNVDE    Male              0      No         No      34          Yes   \n",
              "2  3668-QPYBK    Male              0      No         No       2          Yes   \n",
              "3  7795-CFOCW    Male              0      No         No      45           No   \n",
              "4  9237-HQITU  Female              0      No         No       2          Yes   \n",
              "\n",
              "      MultipleLines InternetService OnlineSecurity  ... DeviceProtection  \\\n",
              "0  No phone service             DSL             No  ...               No   \n",
              "1                No             DSL            Yes  ...              Yes   \n",
              "2                No             DSL            Yes  ...               No   \n",
              "3  No phone service             DSL            Yes  ...              Yes   \n",
              "4                No     Fiber optic             No  ...               No   \n",
              "\n",
              "  TechSupport StreamingTV StreamingMovies        Contract PaperlessBilling  \\\n",
              "0          No          No              No  Month-to-month              Yes   \n",
              "1          No          No              No        One year               No   \n",
              "2          No          No              No  Month-to-month              Yes   \n",
              "3         Yes          No              No        One year               No   \n",
              "4          No          No              No  Month-to-month              Yes   \n",
              "\n",
              "               PaymentMethod MonthlyCharges  TotalCharges Churn  \n",
              "0           Electronic check          29.85         29.85    No  \n",
              "1               Mailed check          56.95        1889.5    No  \n",
              "2               Mailed check          53.85        108.15   Yes  \n",
              "3  Bank transfer (automatic)          42.30       1840.75    No  \n",
              "4           Electronic check          70.70        151.65   Yes  \n",
              "\n",
              "[5 rows x 21 columns]"
            ]
          },
          "execution_count": 5,
          "metadata": {},
          "output_type": "execute_result"
        }
      ],
      "source": [
        "df.head() # Display the first few rows of the dataframe"
      ]
    },
    {
      "cell_type": "markdown",
      "metadata": {},
      "source": [
        "**Checking missing values**"
      ]
    },
    {
      "cell_type": "code",
      "execution_count": 6,
      "metadata": {},
      "outputs": [
        {
          "data": {
            "text/plain": [
              "customerID          0\n",
              "gender              0\n",
              "SeniorCitizen       0\n",
              "Partner             0\n",
              "Dependents          0\n",
              "tenure              0\n",
              "PhoneService        0\n",
              "MultipleLines       0\n",
              "InternetService     0\n",
              "OnlineSecurity      0\n",
              "OnlineBackup        0\n",
              "DeviceProtection    0\n",
              "TechSupport         0\n",
              "StreamingTV         0\n",
              "StreamingMovies     0\n",
              "Contract            0\n",
              "PaperlessBilling    0\n",
              "PaymentMethod       0\n",
              "MonthlyCharges      0\n",
              "TotalCharges        0\n",
              "Churn               0\n",
              "dtype: int64"
            ]
          },
          "execution_count": 6,
          "metadata": {},
          "output_type": "execute_result"
        }
      ],
      "source": [
        "df.isnull().sum() # Check for missing values"
      ]
    },
    {
      "cell_type": "markdown",
      "metadata": {
        "id": "ZY3l0-AxO93d"
      },
      "source": [
        "---"
      ]
    },
    {
      "cell_type": "markdown",
      "metadata": {
        "id": "uFQo3ycuO-v6"
      },
      "source": [
        "## **Part B**"
      ]
    },
    {
      "cell_type": "markdown",
      "metadata": {},
      "source": [
        "### **Data Transformation** \n",
        "### *Data cleaning and processing pipeline*"
      ]
    },
    {
      "cell_type": "markdown",
      "metadata": {},
      "source": [
        "### 🧠 Pipeline Summary: Telecom Churn Data Preprocessing & Feature Engineering\n",
        "\n",
        "The preprocessing pipeline is designed to transform the raw Telecom Customer Churn dataset into a clean, machine-learning-ready format. It standardises data quality, engineers meaningful service-based features, and applies robust encoding and scaling methods to support predictive modelling.\n",
        "\n",
        "**Steps in the ETL Pipeline:**\n",
        "\n",
        "1️⃣ Data Loading & Cleaning\n",
        "\n",
        "* Source: dataset/raw/Telecom_Customer_Churn.csv\n",
        "\n",
        "* Removes personally identifiable information (customerID).\n",
        "\n",
        "* Converts TotalCharges to numeric and imputes missing values using\n",
        "TotalCharges = MonthlyCharges × tenure.\n",
        "\n",
        "* Ensures the dataset contains no missing values before model training.\n",
        "\n",
        "2️⃣ Feature Engineering\n",
        "\n",
        "* Creates a new CustomerType feature categorising users as: \"Phone only\", \"Internet only\", \"Both\"\n",
        "\n",
        "* Normalises inconsistent entries (“No internet service” → “No”).\n",
        "\n",
        "* Derives NumInternetServices, counting the number of active internet-based add-ons such as\n",
        "OnlineSecurity, OnlineBackup, TechSupport, StreamingTV, etc. This feature quantifies customer engagement with telecom products.\n",
        "\n",
        "3️⃣ Preprocessing Pipelines\n",
        "\n",
        "🔹 Numeric Pipeline\n",
        "\n",
        "* Features: tenure, MonthlyCharges, TotalCharges, NumInternetServices\n",
        "\n",
        "    Steps:\n",
        "\n",
        "    * SimpleImputer(strategy='median') – handles any residual missing numeric values.\n",
        "\n",
        "    * StandardScaler() – standardises features to mean = 0, std = 1 for stable model performance.\n",
        "\n",
        "🔹 Categorical Pipeline\n",
        "\n",
        "*   Features: all non-numeric columns (e.g., Contract, PaymentMethod, Gender, CustomerType, etc.)\n",
        "\n",
        "    Steps:\n",
        "\n",
        "    * SimpleImputer(strategy='most_frequent') – fills missing categorical values.\n",
        "\n",
        "    * OneHotEncoder(handle_unknown='ignore', drop='first') – converts categories into binary variables, avoiding multicollinearity.\n",
        "\n",
        "    Both pipelines are combined via a ColumnTransformer into a single unified preprocessing step.\n",
        "\n",
        "4️⃣ Outputs & Diagnostics\n",
        "\n",
        "* The pipeline produces a fully encoded numeric feature matrix ready for model training.\n",
        "\n",
        "* Prints detailed diagnostics:\n",
        "\n",
        "    * Number of categorical and numeric features.\n",
        "\n",
        "    * Mapping of categories per feature.\n",
        "\n",
        "    * Final encoded column names.\n",
        "\n",
        "* Asserts that no missing values remain in the final dataset."
      ]
    },
    {
      "cell_type": "code",
      "execution_count": 17,
      "metadata": {},
      "outputs": [
        {
          "name": "stdout",
          "output_type": "stream",
          "text": [
            "✅ ETL + preprocessing complete!\n",
            "Processed dataset shape: (7043, 28)\n",
            "Columns: ['SeniorCitizen', 'tenure', 'MonthlyCharges', 'TotalCharges', 'NumInternetServices', 'gender_Male', 'Partner_Yes', 'Dependents_Yes', 'PhoneService_Yes', 'MultipleLines_No phone service'] ...\n",
            "Data shape after cleaning: (7043, 22)\n",
            "Categorical features: 17\n",
            "Numeric features: 5\n",
            "Data shape after encoding: (7043, 28)\n",
            "\n",
            "New Columns after One-Hot Encoding:\n",
            "\n",
            "['SeniorCitizen', 'tenure', 'MonthlyCharges', 'TotalCharges', 'NumInternetServices', 'gender_Male', 'Partner_Yes', 'Dependents_Yes', 'PhoneService_Yes', 'MultipleLines_No phone service', 'MultipleLines_Yes', 'InternetService_Fiber optic', 'InternetService_No', 'OnlineSecurity_Yes', 'OnlineBackup_Yes', 'DeviceProtection_Yes', 'TechSupport_Yes', 'StreamingTV_Yes', 'StreamingMovies_Yes', 'Contract_One year', 'Contract_Two year', 'PaperlessBilling_Yes', 'PaymentMethod_Credit card (automatic)', 'PaymentMethod_Electronic check', 'PaymentMethod_Mailed check', 'Churn_Yes', 'CustomerType_Internet only', 'CustomerType_Phone only'] \n",
            "\n"
          ]
        }
      ],
      "source": [
        "\"\"\"\n",
        "ETL & Feature Engineering Pipeline for Telecom Churn Dataset\n",
        "DataFrame-based implementation (avoids NumPy array output)\n",
        "\"\"\"\n",
        "\n",
        "import pandas as pd\n",
        "import numpy as np\n",
        "from sklearn.pipeline import Pipeline\n",
        "from sklearn.preprocessing import OneHotEncoder, StandardScaler\n",
        "from sklearn.impute import SimpleImputer\n",
        "\n",
        "# =========================\n",
        "# 1. Feature Engineering\n",
        "# =========================\n",
        "def add_service_features(df):\n",
        "    \"\"\"Add derived service-based features to the dataset.\"\"\"\n",
        "\n",
        "    # Define customer type based on available services\n",
        "    def service_type(row):\n",
        "        if row['InternetService'] == 'No':\n",
        "            return \"Phone only\"\n",
        "        elif row['PhoneService'] == 'No':\n",
        "            return \"Internet only\"\n",
        "        else:\n",
        "            return \"Both\"\n",
        "\n",
        "    df['CustomerType'] = df.apply(service_type, axis=1)\n",
        "\n",
        "    # Define internet add-ons\n",
        "    internet_add_ons = [\n",
        "        \"OnlineSecurity\", \"OnlineBackup\", \"DeviceProtection\",\n",
        "        \"TechSupport\", \"StreamingTV\", \"StreamingMovies\"\n",
        "    ]\n",
        "\n",
        "    # Normalize categorical values\n",
        "    for col in internet_add_ons:\n",
        "        df[col] = df[col].replace(\"No internet service\", \"No\")\n",
        "\n",
        "    # Create feature: number of \"Yes\" internet services\n",
        "    df[\"NumInternetServices\"] = (df[internet_add_ons] == \"Yes\").sum(axis=1)\n",
        "\n",
        "    return df\n",
        "\n",
        "\n",
        "# =========================\n",
        "# 2. Data Cleaning\n",
        "# =========================\n",
        "def etl_clean_data(df):\n",
        "    # Add service-based features\n",
        "    df = add_service_features(df)\n",
        "\n",
        "    # Drop PII\n",
        "    if 'customerID' in df.columns:\n",
        "        df.drop(\"customerID\", axis=1, inplace=True)\n",
        "\n",
        "    # Convert TotalCharges to numeric\n",
        "    df[\"TotalCharges\"] = pd.to_numeric(df[\"TotalCharges\"], errors=\"coerce\")\n",
        "\n",
        "    # Impute missing TotalCharges using MonthlyCharges * tenure\n",
        "    df.loc[df['TotalCharges'].isnull(), 'TotalCharges'] = (\n",
        "        df['MonthlyCharges'] * df['tenure']\n",
        "    )\n",
        "\n",
        "    return df\n",
        "\n",
        "\n",
        "# =========================\n",
        "# 3. Manual Preprocessing (keeping Pandas format)\n",
        "# =========================\n",
        "def preprocess_dataframe(df):\n",
        "    \"\"\"Perform imputation, scaling, and encoding directly in pandas.\"\"\"\n",
        "    \n",
        "    # Separate numeric and categorical columns\n",
        "    numeric_features = [\"tenure\", \"MonthlyCharges\", \"TotalCharges\", \"NumInternetServices\"]\n",
        "    categorical_features = df.select_dtypes(include=[\"object\"]).columns.tolist()\n",
        "\n",
        "    # 1️⃣ Impute missing numeric values\n",
        "    for col in numeric_features:\n",
        "        df[col] = df[col].fillna(df[col].median())\n",
        "\n",
        "    # 2️⃣ Scale numeric values (z-score normalization)\n",
        "    df[numeric_features] = df[numeric_features].apply(\n",
        "        lambda x: (x - x.mean()) / x.std()\n",
        "    )\n",
        "\n",
        "    # 3️⃣ Impute missing categorical values\n",
        "    for col in categorical_features:\n",
        "        df[col] = df[col].fillna(df[col].mode()[0])\n",
        "\n",
        "    # 4️⃣ One-hot encode categorical variables (drop_first=True for multicollinearity)\n",
        "    df_encoded = pd.get_dummies(df, columns=categorical_features, drop_first=True)\n",
        "\n",
        "    return df_encoded\n",
        "\n",
        "\n",
        "# =========================\n",
        "# 4. Execute ETL + Preprocessing\n",
        "# =========================\n",
        "df_cleaned = etl_clean_data(df)\n",
        "df_encoded = preprocess_dataframe(df_cleaned)\n",
        "\n",
        "# Save processed dataset\n",
        "df_cleaned.to_csv(\"dataset/processed/telecom_customer_churn_cleaned.csv\", index=False)\n",
        "df_encoded.to_csv(\"dataset/processed/telecom_customer_churn_encoded.csv\", index=False)\n",
        "\n",
        "\n",
        "print(\"✅ ETL + preprocessing complete!\")\n",
        "print(f\"Processed dataset shape: {df_encoded.shape}\")\n",
        "print(\"Columns:\", df_encoded.columns.tolist()[:10], \"...\")\n",
        "print(f\"Data shape after cleaning: {df_cleaned.shape}\")\n",
        "print(f\"Categorical features: {len(df_cleaned.select_dtypes(include=['object']).columns)}\")\n",
        "print(f\"Numeric features: {len(df_cleaned.select_dtypes(exclude=['object']).columns)}\")\n",
        "print(f\"Data shape after encoding: {df_encoded.shape}\")\n",
        "print('\\nNew Columns after One-Hot Encoding:\\n')\n",
        "print(df_encoded.columns.tolist(), '\\n')\n",
        "\n",
        "# Verify no missing values remain\n",
        "assert df_cleaned.isnull().sum().sum() == 0, \"Missing values remain in the DataFrame\"\n",
        "\n",
        "\n"
      ]
    },
    {
      "cell_type": "markdown",
      "metadata": {},
      "source": [
        "Remarks: After changing the data type, empty strings or invalid entries become NaN in TotolCharges column. the missing values of TotalCharges was imputed the formula assumes TotalCharges should roughly equal monthly charges multiplied by tenure."
      ]
    },
    {
      "cell_type": "markdown",
      "metadata": {},
      "source": [
        "---"
      ]
    },
    {
      "cell_type": "markdown",
      "metadata": {
        "id": "ltNetd085qHf"
      },
      "source": [
        "## **Part C**"
      ]
    },
    {
      "cell_type": "markdown",
      "metadata": {
        "id": "aKlnIozA4eQO",
        "outputId": "fd09bc1f-adb1-4511-f6ce-492a6af570c0"
      },
      "source": [
        "### **Data Load** \n",
        "### *Creating cleaned and encoded dataset*"
      ]
    },
    {
      "cell_type": "markdown",
      "metadata": {},
      "source": [
        "* The resulting preprocessor in the pipeline can be directly plugged into an end-to-end machine learning workflow. Now we save a cleaned and encoded dataset for further use in ML model."
      ]
    },
    {
      "cell_type": "code",
      "execution_count": 9,
      "metadata": {},
      "outputs": [
        {
          "ename": "AttributeError",
          "evalue": "'numpy.ndarray' object has no attribute 'to_csv'",
          "output_type": "error",
          "traceback": [
            "\u001b[0;31m---------------------------------------------------------------------------\u001b[0m",
            "\u001b[0;31mAttributeError\u001b[0m                            Traceback (most recent call last)",
            "Cell \u001b[0;32mIn[9], line 5\u001b[0m\n\u001b[1;32m      3\u001b[0m df_cleaned\u001b[38;5;241m.\u001b[39mto_csv(\u001b[38;5;124m'\u001b[39m\u001b[38;5;124mdataset/processed/telecom_customer_churn_cleaned.csv\u001b[39m\u001b[38;5;124m'\u001b[39m, index\u001b[38;5;241m=\u001b[39m\u001b[38;5;28;01mFalse\u001b[39;00m)\n\u001b[1;32m      4\u001b[0m df_encoded \u001b[38;5;241m=\u001b[39m df_encoded\u001b[38;5;241m.\u001b[39mcopy()\n\u001b[0;32m----> 5\u001b[0m \u001b[43mdf_encoded\u001b[49m\u001b[38;5;241;43m.\u001b[39;49m\u001b[43mto_csv\u001b[49m(\u001b[38;5;124m'\u001b[39m\u001b[38;5;124mdataset/processed/telecom_customer_churn_encoded.csv\u001b[39m\u001b[38;5;124m'\u001b[39m, index\u001b[38;5;241m=\u001b[39m\u001b[38;5;28;01mFalse\u001b[39;00m)\n\u001b[1;32m      7\u001b[0m \u001b[38;5;28mprint\u001b[39m(\u001b[38;5;124mf\u001b[39m\u001b[38;5;124m'\u001b[39m\u001b[38;5;124mCleaned and encoded dataset exported to dataset/processed/\u001b[39m\u001b[38;5;124m'\u001b[39m)\n",
            "\u001b[0;31mAttributeError\u001b[0m: 'numpy.ndarray' object has no attribute 'to_csv'"
          ]
        }
      ],
      "source": [
        "# Export the cleaned dataframe to a CSV file in the folder for processed CSV\n",
        "df_cleaned = df.copy()\n",
        "df_cleaned.to_csv('dataset/processed/telecom_customer_churn_cleaned.csv', index=False)\n",
        "df_encoded = df_encoded.copy()\n",
        "df_encoded.to_csv('dataset/processed/telecom_customer_churn_encoded.csv', index=False)\n",
        "\n",
        "print(f'Cleaned and encoded dataset exported to dataset/processed/')"
      ]
    },
    {
      "cell_type": "markdown",
      "metadata": {},
      "source": [
        "---"
      ]
    },
    {
      "cell_type": "markdown",
      "metadata": {},
      "source": [
        "To be contined in Section 3 for Data Visualization."
      ]
    }
  ],
  "metadata": {
    "accelerator": "GPU",
    "colab": {
      "name": "Data Practitioner Jupyter Notebook.ipynb",
      "provenance": [],
      "toc_visible": true
    },
    "kernelspec": {
      "display_name": ".venv",
      "language": "python",
      "name": "python3"
    },
    "language_info": {
      "codemirror_mode": {
        "name": "ipython",
        "version": 3
      },
      "file_extension": ".py",
      "mimetype": "text/x-python",
      "name": "python",
      "nbconvert_exporter": "python",
      "pygments_lexer": "ipython3",
      "version": "3.12.8"
    },
    "orig_nbformat": 2
  },
  "nbformat": 4,
  "nbformat_minor": 2
}
