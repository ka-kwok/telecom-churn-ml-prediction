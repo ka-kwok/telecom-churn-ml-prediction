{
  "cells": [
    {
      "cell_type": "markdown",
      "metadata": {
        "id": "0aStgWSO0E0E"
      },
      "source": [
        "# **Telecom Churn Analytics:** \n",
        "## ***Building Predictive Models to Improve Customer Retention***"
      ]
    },
    {
      "cell_type": "markdown",
      "metadata": {},
      "source": [
        "### Section 4: Predictive Model 🤖📚"
      ]
    },
    {
      "cell_type": "markdown",
      "metadata": {},
      "source": [
        "---"
      ]
    },
    {
      "cell_type": "markdown",
      "metadata": {},
      "source": [
        "### Objective\n",
        "* The aim of this model is to predict customer churn rate by leveraging both demographic attributes (e.g., age, dependency, tenure) and subscription-related attributes (e.g., plan type, billing method, service usage, contract length). \n",
        "\n",
        "* The model enables the telecom company to \n",
        "\n",
        "     - Estimate churn rate more accurately across different customer segments.\n",
        "\n",
        "     - Identify key churn drivers, such as high call drop rates, short contract terms, or specific demographic patterns.\n",
        "\n",
        "     - Enhance retention strategies by targeting at-risk customers with personalized offers, loyalty programs, or improved service quality.\n",
        "\n",
        "     - Optimize marketing campaigns by focusing resources on customers most likely to churn, thereby reducing acquisition costs and improving lifetime value.\n",
        "\n",
        "### Input\n",
        "* A cleaned and processed dataset with *onehot-encoded* catetegorical and *scaled* numeric variables. \n",
        "\n",
        "     * **Features:** \n",
        "     gender, \n",
        "     SeniorCitizen, \n",
        "     Partner, \n",
        "     Dependents, \n",
        "     tenure, \n",
        "     PhoneService, \n",
        "     MultipleLine, \n",
        "     InternetService,\n",
        "     OnlineSecurity,\n",
        "     OnlineBackup,\n",
        "     DeviceProtection,\n",
        "     TechSupport,\n",
        "     StreamingTV,\n",
        "     StreamingMovies,\n",
        "     Contract,\n",
        "     PaperlessBilling,\n",
        "     PaymentMethod,\n",
        "     MonthlyCharges, \n",
        "     TotalCharges, \n",
        "     CustomerType           \n",
        "\n",
        "     * **Target:** \n",
        "     Churn\n",
        "\n",
        "### Training Procedures\n",
        "\n",
        "1. Train Base Model with GridSearchCV\n",
        "\n",
        "     * Begin with baseline models (e.g., Logistic Regression, Decision Tree) to establish a performance benchmark.\n",
        "\n",
        "     * Valuate using metrics such as accuracy, precision, recall, F1-score, and ROC-AUC.\n",
        "\n",
        "2. Select High-Performance Models\n",
        "\n",
        "     * Compare models based on performance metrics and interpretability.\n",
        "\n",
        "     * Shortlist models that demonstrate strong generalization and balanced recall–precision trade-off\n",
        "\n",
        "3. Tune the Selected Models (Hyperparameter Optimization)\n",
        "\n",
        "     * Apply GridSearchCV further to optimize hyperparameters for the shortlisted models.\n",
        "\n",
        "     * Improve performance and reduce overfitting by finding the best parameter configuration.\n",
        "\n",
        "4. Feature Importance and Model Refinement\n",
        "\n",
        "     * Identify top contributing features using feature importance or model coefficients.\n",
        "\n",
        "     * Retrain the tuned model using the most impactful features to enhance interpretability and efficiency.\n",
        "\n",
        "\n",
        "### Output\n",
        " * A high performance ML model with features below which to be used for the churn estimator in the dashboard.\n",
        " \n",
        "     * A summary table comparing models (accuracy, recall, precision, ROC-AUC)\n",
        "\n",
        "     * The best model selected automatically\n",
        "\n",
        "     * Optimized hyperparameters after tuning\n",
        "\n",
        "     * A feature importance plot for the best model\n",
        "\n",
        "     * Final retraining with only top features\n"
      ]
    },
    {
      "cell_type": "markdown",
      "metadata": {},
      "source": [
        "---"
      ]
    },
    {
      "cell_type": "markdown",
      "metadata": {},
      "source": [
        "### Change working directory"
      ]
    },
    {
      "cell_type": "markdown",
      "metadata": {},
      "source": [
        "* We are assuming you will store the notebooks in a subfolder, therefore when running the notebook in the editor, you will need to change the working directory\n",
        "We need to change the working directory from its current folder to its parent folder"
      ]
    },
    {
      "cell_type": "code",
      "execution_count": 1,
      "metadata": {},
      "outputs": [
        {
          "name": "stdout",
          "output_type": "stream",
          "text": [
            "You set a new current directory: /Users/denniskwok/Documents/data-analytics/telecom-churn-ml-prediction\n"
          ]
        }
      ],
      "source": [
        "import os\n",
        "\n",
        "os.chdir(os.path.dirname(os.getcwd()))\n",
        "current_dir = os.getcwd()\n",
        "print(f\"You set a new current directory: {current_dir}\")"
      ]
    },
    {
      "cell_type": "markdown",
      "metadata": {},
      "source": [
        "---"
      ]
    },
    {
      "cell_type": "markdown",
      "metadata": {},
      "source": [
        "### ML Model: Predict Customer Churn Based on Demographic and Subscription patterns"
      ]
    },
    {
      "cell_type": "markdown",
      "metadata": {},
      "source": [
        "Load the encoded dataset"
      ]
    },
    {
      "cell_type": "code",
      "execution_count": 2,
      "metadata": {
        "id": "aKlnIozA4eQO",
        "outputId": "fd09bc1f-adb1-4511-f6ce-492a6af570c0"
      },
      "outputs": [],
      "source": [
        "import numpy as np\n",
        "import pandas as pd\n",
        "import matplotlib.pyplot as plt\n",
        "import seaborn as sns\n",
        "sns.set_style(\"whitegrid\")\n",
        "\n",
        "df_encoded = pd.read_csv(\"dataset/processed/telecom_customer_churn_encoded.csv\")\n"
      ]
    },
    {
      "cell_type": "markdown",
      "metadata": {},
      "source": [
        "Split features and target for train-test"
      ]
    },
    {
      "cell_type": "code",
      "execution_count": 3,
      "metadata": {},
      "outputs": [
        {
          "name": "stdout",
          "output_type": "stream",
          "text": [
            "* Train set: (5634, 26) (5634,) \n",
            "* Test set: (1409, 26) (1409,)\n"
          ]
        }
      ],
      "source": [
        "from sklearn.model_selection import train_test_split\n",
        "\n",
        "# Split into features and target\n",
        "X = df_encoded.drop([\"Churn_Yes\"], axis=1)\n",
        "y = df_encoded[\"Churn_Yes\"]\n",
        "\n",
        "X_train, X_test, y_train, y_test = train_test_split(X, y, test_size=0.2, random_state=89)\n",
        "print(\"* Train set:\", X_train.shape, y_train.shape, \"\\n* Test set:\", X_test.shape, y_test.shape)"
      ]
    },
    {
      "cell_type": "markdown",
      "metadata": {},
      "source": [
        "📘 **Model Rationale**\n",
        "\n",
        "Telecom churn data typically exhibits complex, non-linear interactions among categorical features — for example, between internet add-ons, contract length, and payment method. These interdependencies mean that the relationships between predictors and churn outcomes are not purely linear.\n",
        "\n",
        "While Logistic Regression performs well for datasets with linear feature relationships, tree-based models capture complex, non-linear interactions among variables with strong prediction capability.\n",
        "\n",
        "The project will train both models independently and compare their performance (accuracy, recall, ROC-AUC) leading to more robust and accurate churn predictions."
      ]
    },
    {
      "cell_type": "code",
      "execution_count": 4,
      "metadata": {},
      "outputs": [],
      "source": [
        "# Import models and evaluation metrics\n",
        "\n",
        "from sklearn.linear_model import LogisticRegression\n",
        "from sklearn.tree import DecisionTreeClassifier\n",
        "from sklearn.ensemble import RandomForestClassifier\n",
        "from sklearn.ensemble import GradientBoostingClassifier \n",
        "from sklearn.ensemble import ExtraTreesClassifier\n",
        "from sklearn.ensemble import AdaBoostClassifier\n",
        "\n",
        "from sklearn.model_selection import GridSearchCV\n",
        "from sklearn.pipeline import Pipeline\n",
        "from sklearn.metrics import (accuracy_score, precision_score, recall_score, f1_score, roc_auc_score, confusion_matrix, classification_report)\n",
        "\n",
        "class HyperparameterOptimizationSearch:\n",
        "\n",
        "    def __init__(self, models, params):\n",
        "        self.models = models\n",
        "        self.params = params\n",
        "        self.keys = models.keys()\n",
        "        self.grid_searches = {}\n",
        "\n",
        "    def fit(self, X, y, cv, n_jobs, verbose=1, scoring=None, refit=False):\n",
        "        for key in self.keys:\n",
        "            print(f\"\\nRunning GridSearchCV for {key} \\n\")\n",
        "            # If you want to add preprocessing steps, modify the pipeline here.\n",
        "            model = Pipeline([('model', self.models[key])])\n",
        "\n",
        "            params = self.params[key]\n",
        "            gs = GridSearchCV(model, params, cv=cv, n_jobs=n_jobs, verbose=verbose, scoring=scoring)\n",
        "            gs.fit(X, y)\n",
        "            self.grid_searches[key] = gs    \n",
        "            # No pipeline optimization needed, so leave this section empty or add a pass statement\n",
        "            pass  \n",
        "          \n",
        "    def score_summary(self, sort_by='mean_score'):\n",
        "        def row(key, scores, params):\n",
        "            d = {\n",
        "                 'estimator': key,\n",
        "                 'min_score': min(scores),\n",
        "                 'max_score': max(scores),\n",
        "                 'mean_score': np.mean(scores),\n",
        "                 'std_score': np.std(scores),\n",
        "            }\n",
        "            return pd.Series({**params,**d})\n",
        "\n",
        "        rows = []\n",
        "        for k in self.grid_searches:\n",
        "            params = self.grid_searches[k].cv_results_['params']\n",
        "            scores = []\n",
        "            for i in range(self.grid_searches[k].cv):\n",
        "                key = \"split{}_test_score\".format(i)\n",
        "                r = self.grid_searches[k].cv_results_[key]        \n",
        "                scores.append(r.reshape(len(params),1))\n",
        "\n",
        "            all_scores = np.hstack(scores)\n",
        "            for p, s in zip(params,all_scores):\n",
        "                rows.append((row(k, s, p)))\n",
        "\n",
        "        df = pd.concat(rows, axis=1).T.sort_values([sort_by], ascending=False)\n",
        "\n",
        "        columns = ['estimator', 'min_score', 'mean_score', 'max_score', 'std_score']\n",
        "        columns = columns + [c for c in df.columns if c not in columns]\n",
        "\n",
        "        return df[columns], self.grid_searches\n",
        "    \n",
        "    def performance_metrics(self, X_test, y_test, sort_by='ROC-AUC'):\n",
        "        results = []\n",
        "\n",
        "        for model_name, gs in self.grid_searches.items():\n",
        "            best_model = gs.best_estimator_\n",
        "            y_pred = best_model.predict(X_test)\n",
        "            y_prob = best_model.predict_proba(X_test)[:, 1]\n",
        "\n",
        "            results.append({\n",
        "                \"Model\": model_name,\n",
        "                \"Best Params\": gs.best_params_,\n",
        "                \"CV_Accuracy\": round(gs.best_score_, 3),  # Cross-validation accuracy (same as score_summary)\n",
        "                \"Test_Accuracy\": round(accuracy_score(y_test, y_pred), 3),  # Test set accuracy\n",
        "                \"Test_Precision\": round(precision_score(y_test, y_pred), 3),\n",
        "                \"Test_Recall\": round(recall_score(y_test, y_pred), 3),\n",
        "                \"Test_F1\": round(f1_score(y_test, y_pred), 3),\n",
        "                \"Test_ROC-AUC\": round(roc_auc_score(y_test, y_prob), 3)\n",
        "            })\n",
        "\n",
        "        results_df = pd.DataFrame(results).sort_values(by=\"CV_Accuracy\", ascending=False).reset_index(drop=True)\n",
        "        return results_df.style.highlight_max(axis=0, subset=['CV_Accuracy', 'Test_Accuracy', 'Test_Precision', 'Test_Recall', 'Test_F1', 'Test_ROC-AUC'], color=\"green\")\n"
      ]
    },
    {
      "cell_type": "markdown",
      "metadata": {},
      "source": [
        "Define a list of models and their respective hyperparameters"
      ]
    },
    {
      "cell_type": "code",
      "execution_count": 5,
      "metadata": {},
      "outputs": [],
      "source": [
        "models_search = {\n",
        "    \"LogisticRegression\": LogisticRegression(random_state=89),\n",
        "    \"DecisionTreeClassifier\":DecisionTreeClassifier(random_state=89),\n",
        "    \"RandomForestClassifier\":RandomForestClassifier(random_state=89),\n",
        "    \"GradientBoostingClassifier\":GradientBoostingClassifier(random_state=89),\n",
        "    \"ExtraTreesClassifier\":ExtraTreesClassifier(random_state=89),\n",
        "    \"AdaBoostClassifier\":AdaBoostClassifier(random_state=89),\n",
        "}"
      ]
    },
    {
      "cell_type": "markdown",
      "metadata": {},
      "source": [
        "Hyperparameter optimisation search using the default hyperparameters values"
      ]
    },
    {
      "cell_type": "code",
      "execution_count": 6,
      "metadata": {},
      "outputs": [],
      "source": [
        "params_search = {\n",
        "    \"LogisticRegression\":{},\n",
        "    \"DecisionTreeClassifier\":{},\n",
        "    \"RandomForestClassifier\":{},\n",
        "    \"GradientBoostingClassifier\":{},\n",
        "    \"ExtraTreesClassifier\":{},\n",
        "    \"AdaBoostClassifier\":{},\n",
        "}\n"
      ]
    },
    {
      "cell_type": "markdown",
      "metadata": {},
      "source": [
        "Fit training pipeline with GridSearchCV"
      ]
    },
    {
      "cell_type": "code",
      "execution_count": 7,
      "metadata": {},
      "outputs": [
        {
          "name": "stdout",
          "output_type": "stream",
          "text": [
            "\n",
            "Running GridSearchCV for LogisticRegression \n",
            "\n",
            "Fitting 2 folds for each of 1 candidates, totalling 2 fits\n",
            "\n",
            "Running GridSearchCV for DecisionTreeClassifier \n",
            "\n",
            "Fitting 2 folds for each of 1 candidates, totalling 2 fits\n",
            "\n",
            "Running GridSearchCV for RandomForestClassifier \n",
            "\n",
            "Fitting 2 folds for each of 1 candidates, totalling 2 fits\n",
            "\n",
            "Running GridSearchCV for GradientBoostingClassifier \n",
            "\n",
            "Fitting 2 folds for each of 1 candidates, totalling 2 fits\n",
            "\n",
            "Running GridSearchCV for ExtraTreesClassifier \n",
            "\n",
            "Fitting 2 folds for each of 1 candidates, totalling 2 fits\n",
            "\n",
            "Running GridSearchCV for AdaBoostClassifier \n",
            "\n",
            "Fitting 2 folds for each of 1 candidates, totalling 2 fits\n"
          ]
        }
      ],
      "source": [
        "search = HyperparameterOptimizationSearch(models=models_search, params=params_search)\n",
        "search.fit(X_train, y_train,\n",
        "           scoring='accuracy',\n",
        "           n_jobs=-1,\n",
        "           cv=2)\n"
      ]
    },
    {
      "cell_type": "markdown",
      "metadata": {},
      "source": [
        "DataFrame with all the training results summary and a dictionary containing all pipelines"
      ]
    },
    {
      "cell_type": "code",
      "execution_count": 8,
      "metadata": {},
      "outputs": [
        {
          "data": {
            "text/html": [
              "<style type=\"text/css\">\n",
              "#T_6d849_row0_col1, #T_6d849_row0_col2, #T_6d849_row1_col3, #T_6d849_row5_col4 {\n",
              "  background-color: green;\n",
              "}\n",
              "</style>\n",
              "<table id=\"T_6d849\">\n",
              "  <thead>\n",
              "    <tr>\n",
              "      <th class=\"blank level0\" >&nbsp;</th>\n",
              "      <th id=\"T_6d849_level0_col0\" class=\"col_heading level0 col0\" >estimator</th>\n",
              "      <th id=\"T_6d849_level0_col1\" class=\"col_heading level0 col1\" >min_score</th>\n",
              "      <th id=\"T_6d849_level0_col2\" class=\"col_heading level0 col2\" >mean_score</th>\n",
              "      <th id=\"T_6d849_level0_col3\" class=\"col_heading level0 col3\" >max_score</th>\n",
              "      <th id=\"T_6d849_level0_col4\" class=\"col_heading level0 col4\" >std_score</th>\n",
              "    </tr>\n",
              "  </thead>\n",
              "  <tbody>\n",
              "    <tr>\n",
              "      <th id=\"T_6d849_level0_row0\" class=\"row_heading level0 row0\" >0</th>\n",
              "      <td id=\"T_6d849_row0_col0\" class=\"data row0 col0\" >LogisticRegression</td>\n",
              "      <td id=\"T_6d849_row0_col1\" class=\"data row0 col1\" >0.798722</td>\n",
              "      <td id=\"T_6d849_row0_col2\" class=\"data row0 col2\" >0.799255</td>\n",
              "      <td id=\"T_6d849_row0_col3\" class=\"data row0 col3\" >0.799787</td>\n",
              "      <td id=\"T_6d849_row0_col4\" class=\"data row0 col4\" >0.000532</td>\n",
              "    </tr>\n",
              "    <tr>\n",
              "      <th id=\"T_6d849_level0_row1\" class=\"row_heading level0 row1\" >5</th>\n",
              "      <td id=\"T_6d849_row1_col0\" class=\"data row1 col0\" >AdaBoostClassifier</td>\n",
              "      <td id=\"T_6d849_row1_col1\" class=\"data row1 col1\" >0.793752</td>\n",
              "      <td id=\"T_6d849_row1_col2\" class=\"data row1 col2\" >0.798012</td>\n",
              "      <td id=\"T_6d849_row1_col3\" class=\"data row1 col3\" >0.802272</td>\n",
              "      <td id=\"T_6d849_row1_col4\" class=\"data row1 col4\" >0.004260</td>\n",
              "    </tr>\n",
              "    <tr>\n",
              "      <th id=\"T_6d849_level0_row2\" class=\"row_heading level0 row2\" >3</th>\n",
              "      <td id=\"T_6d849_row2_col0\" class=\"data row2 col0\" >GradientBoostingClassifier</td>\n",
              "      <td id=\"T_6d849_row2_col1\" class=\"data row2 col1\" >0.791622</td>\n",
              "      <td id=\"T_6d849_row2_col2\" class=\"data row2 col2\" >0.794107</td>\n",
              "      <td id=\"T_6d849_row2_col3\" class=\"data row2 col3\" >0.796592</td>\n",
              "      <td id=\"T_6d849_row2_col4\" class=\"data row2 col4\" >0.002485</td>\n",
              "    </tr>\n",
              "    <tr>\n",
              "      <th id=\"T_6d849_level0_row3\" class=\"row_heading level0 row3\" >2</th>\n",
              "      <td id=\"T_6d849_row3_col0\" class=\"data row3 col0\" >RandomForestClassifier</td>\n",
              "      <td id=\"T_6d849_row3_col1\" class=\"data row3 col1\" >0.791977</td>\n",
              "      <td id=\"T_6d849_row3_col2\" class=\"data row3 col2\" >0.792332</td>\n",
              "      <td id=\"T_6d849_row3_col3\" class=\"data row3 col3\" >0.792687</td>\n",
              "      <td id=\"T_6d849_row3_col4\" class=\"data row3 col4\" >0.000355</td>\n",
              "    </tr>\n",
              "    <tr>\n",
              "      <th id=\"T_6d849_level0_row4\" class=\"row_heading level0 row4\" >4</th>\n",
              "      <td id=\"T_6d849_row4_col0\" class=\"data row4 col0\" >ExtraTreesClassifier</td>\n",
              "      <td id=\"T_6d849_row4_col1\" class=\"data row4 col1\" >0.772098</td>\n",
              "      <td id=\"T_6d849_row4_col2\" class=\"data row4 col2\" >0.775648</td>\n",
              "      <td id=\"T_6d849_row4_col3\" class=\"data row4 col3\" >0.779198</td>\n",
              "      <td id=\"T_6d849_row4_col4\" class=\"data row4 col4\" >0.003550</td>\n",
              "    </tr>\n",
              "    <tr>\n",
              "      <th id=\"T_6d849_level0_row5\" class=\"row_heading level0 row5\" >1</th>\n",
              "      <td id=\"T_6d849_row5_col0\" class=\"data row5 col0\" >DecisionTreeClassifier</td>\n",
              "      <td id=\"T_6d849_row5_col1\" class=\"data row5 col1\" >0.731629</td>\n",
              "      <td id=\"T_6d849_row5_col2\" class=\"data row5 col2\" >0.736777</td>\n",
              "      <td id=\"T_6d849_row5_col3\" class=\"data row5 col3\" >0.741924</td>\n",
              "      <td id=\"T_6d849_row5_col4\" class=\"data row5 col4\" >0.005147</td>\n",
              "    </tr>\n",
              "  </tbody>\n",
              "</table>\n"
            ],
            "text/plain": [
              "<pandas.io.formats.style.Styler at 0x2f3c77f80>"
            ]
          },
          "execution_count": 8,
          "metadata": {},
          "output_type": "execute_result"
        }
      ],
      "source": [
        "grid_search_summary, grid_search_pipelines = search.score_summary(sort_by='mean_score')\n",
        "grid_search_summary\n",
        "\n",
        "grid_search_summary.style.highlight_max(axis=0, subset=['min_score', 'mean_score', 'max_score', 'std_score'], color=\"green\")"
      ]
    },
    {
      "cell_type": "markdown",
      "metadata": {},
      "source": [
        "In the baseline training, LogisticRegression performed the best score for Accuracy. Let's look into the performance metrics in details."
      ]
    },
    {
      "cell_type": "code",
      "execution_count": 9,
      "metadata": {},
      "outputs": [
        {
          "data": {
            "text/html": [
              "<style type=\"text/css\">\n",
              "#T_3bd0f_row0_col2, #T_3bd0f_row0_col3, #T_3bd0f_row0_col4, #T_3bd0f_row0_col5, #T_3bd0f_row0_col6, #T_3bd0f_row1_col7 {\n",
              "  background-color: green;\n",
              "}\n",
              "</style>\n",
              "<table id=\"T_3bd0f\">\n",
              "  <thead>\n",
              "    <tr>\n",
              "      <th class=\"blank level0\" >&nbsp;</th>\n",
              "      <th id=\"T_3bd0f_level0_col0\" class=\"col_heading level0 col0\" >Model</th>\n",
              "      <th id=\"T_3bd0f_level0_col1\" class=\"col_heading level0 col1\" >Best Params</th>\n",
              "      <th id=\"T_3bd0f_level0_col2\" class=\"col_heading level0 col2\" >CV_Accuracy</th>\n",
              "      <th id=\"T_3bd0f_level0_col3\" class=\"col_heading level0 col3\" >Test_Accuracy</th>\n",
              "      <th id=\"T_3bd0f_level0_col4\" class=\"col_heading level0 col4\" >Test_Precision</th>\n",
              "      <th id=\"T_3bd0f_level0_col5\" class=\"col_heading level0 col5\" >Test_Recall</th>\n",
              "      <th id=\"T_3bd0f_level0_col6\" class=\"col_heading level0 col6\" >Test_F1</th>\n",
              "      <th id=\"T_3bd0f_level0_col7\" class=\"col_heading level0 col7\" >Test_ROC-AUC</th>\n",
              "    </tr>\n",
              "  </thead>\n",
              "  <tbody>\n",
              "    <tr>\n",
              "      <th id=\"T_3bd0f_level0_row0\" class=\"row_heading level0 row0\" >0</th>\n",
              "      <td id=\"T_3bd0f_row0_col0\" class=\"data row0 col0\" >LogisticRegression</td>\n",
              "      <td id=\"T_3bd0f_row0_col1\" class=\"data row0 col1\" >{}</td>\n",
              "      <td id=\"T_3bd0f_row0_col2\" class=\"data row0 col2\" >0.799000</td>\n",
              "      <td id=\"T_3bd0f_row0_col3\" class=\"data row0 col3\" >0.818000</td>\n",
              "      <td id=\"T_3bd0f_row0_col4\" class=\"data row0 col4\" >0.690000</td>\n",
              "      <td id=\"T_3bd0f_row0_col5\" class=\"data row0 col5\" >0.537000</td>\n",
              "      <td id=\"T_3bd0f_row0_col6\" class=\"data row0 col6\" >0.604000</td>\n",
              "      <td id=\"T_3bd0f_row0_col7\" class=\"data row0 col7\" >0.850000</td>\n",
              "    </tr>\n",
              "    <tr>\n",
              "      <th id=\"T_3bd0f_level0_row1\" class=\"row_heading level0 row1\" >1</th>\n",
              "      <td id=\"T_3bd0f_row1_col0\" class=\"data row1 col0\" >AdaBoostClassifier</td>\n",
              "      <td id=\"T_3bd0f_row1_col1\" class=\"data row1 col1\" >{}</td>\n",
              "      <td id=\"T_3bd0f_row1_col2\" class=\"data row1 col2\" >0.798000</td>\n",
              "      <td id=\"T_3bd0f_row1_col3\" class=\"data row1 col3\" >0.811000</td>\n",
              "      <td id=\"T_3bd0f_row1_col4\" class=\"data row1 col4\" >0.684000</td>\n",
              "      <td id=\"T_3bd0f_row1_col5\" class=\"data row1 col5\" >0.504000</td>\n",
              "      <td id=\"T_3bd0f_row1_col6\" class=\"data row1 col6\" >0.580000</td>\n",
              "      <td id=\"T_3bd0f_row1_col7\" class=\"data row1 col7\" >0.853000</td>\n",
              "    </tr>\n",
              "    <tr>\n",
              "      <th id=\"T_3bd0f_level0_row2\" class=\"row_heading level0 row2\" >2</th>\n",
              "      <td id=\"T_3bd0f_row2_col0\" class=\"data row2 col0\" >GradientBoostingClassifier</td>\n",
              "      <td id=\"T_3bd0f_row2_col1\" class=\"data row2 col1\" >{}</td>\n",
              "      <td id=\"T_3bd0f_row2_col2\" class=\"data row2 col2\" >0.794000</td>\n",
              "      <td id=\"T_3bd0f_row2_col3\" class=\"data row2 col3\" >0.811000</td>\n",
              "      <td id=\"T_3bd0f_row2_col4\" class=\"data row2 col4\" >0.686000</td>\n",
              "      <td id=\"T_3bd0f_row2_col5\" class=\"data row2 col5\" >0.496000</td>\n",
              "      <td id=\"T_3bd0f_row2_col6\" class=\"data row2 col6\" >0.576000</td>\n",
              "      <td id=\"T_3bd0f_row2_col7\" class=\"data row2 col7\" >0.852000</td>\n",
              "    </tr>\n",
              "    <tr>\n",
              "      <th id=\"T_3bd0f_level0_row3\" class=\"row_heading level0 row3\" >3</th>\n",
              "      <td id=\"T_3bd0f_row3_col0\" class=\"data row3 col0\" >RandomForestClassifier</td>\n",
              "      <td id=\"T_3bd0f_row3_col1\" class=\"data row3 col1\" >{}</td>\n",
              "      <td id=\"T_3bd0f_row3_col2\" class=\"data row3 col2\" >0.792000</td>\n",
              "      <td id=\"T_3bd0f_row3_col3\" class=\"data row3 col3\" >0.796000</td>\n",
              "      <td id=\"T_3bd0f_row3_col4\" class=\"data row3 col4\" >0.650000</td>\n",
              "      <td id=\"T_3bd0f_row3_col5\" class=\"data row3 col5\" >0.463000</td>\n",
              "      <td id=\"T_3bd0f_row3_col6\" class=\"data row3 col6\" >0.541000</td>\n",
              "      <td id=\"T_3bd0f_row3_col7\" class=\"data row3 col7\" >0.831000</td>\n",
              "    </tr>\n",
              "    <tr>\n",
              "      <th id=\"T_3bd0f_level0_row4\" class=\"row_heading level0 row4\" >4</th>\n",
              "      <td id=\"T_3bd0f_row4_col0\" class=\"data row4 col0\" >ExtraTreesClassifier</td>\n",
              "      <td id=\"T_3bd0f_row4_col1\" class=\"data row4 col1\" >{}</td>\n",
              "      <td id=\"T_3bd0f_row4_col2\" class=\"data row4 col2\" >0.776000</td>\n",
              "      <td id=\"T_3bd0f_row4_col3\" class=\"data row4 col3\" >0.771000</td>\n",
              "      <td id=\"T_3bd0f_row4_col4\" class=\"data row4 col4\" >0.573000</td>\n",
              "      <td id=\"T_3bd0f_row4_col5\" class=\"data row4 col5\" >0.452000</td>\n",
              "      <td id=\"T_3bd0f_row4_col6\" class=\"data row4 col6\" >0.505000</td>\n",
              "      <td id=\"T_3bd0f_row4_col7\" class=\"data row4 col7\" >0.807000</td>\n",
              "    </tr>\n",
              "    <tr>\n",
              "      <th id=\"T_3bd0f_level0_row5\" class=\"row_heading level0 row5\" >5</th>\n",
              "      <td id=\"T_3bd0f_row5_col0\" class=\"data row5 col0\" >DecisionTreeClassifier</td>\n",
              "      <td id=\"T_3bd0f_row5_col1\" class=\"data row5 col1\" >{}</td>\n",
              "      <td id=\"T_3bd0f_row5_col2\" class=\"data row5 col2\" >0.737000</td>\n",
              "      <td id=\"T_3bd0f_row5_col3\" class=\"data row5 col3\" >0.715000</td>\n",
              "      <td id=\"T_3bd0f_row5_col4\" class=\"data row5 col4\" >0.451000</td>\n",
              "      <td id=\"T_3bd0f_row5_col5\" class=\"data row5 col5\" >0.466000</td>\n",
              "      <td id=\"T_3bd0f_row5_col6\" class=\"data row5 col6\" >0.458000</td>\n",
              "      <td id=\"T_3bd0f_row5_col7\" class=\"data row5 col7\" >0.633000</td>\n",
              "    </tr>\n",
              "  </tbody>\n",
              "</table>\n"
            ],
            "text/plain": [
              "<pandas.io.formats.style.Styler at 0x2f427f530>"
            ]
          },
          "execution_count": 9,
          "metadata": {},
          "output_type": "execute_result"
        }
      ],
      "source": [
        "grid_metrics = search.performance_metrics(X_test, y_test, sort_by='CV_Accuracy')\n",
        "grid_metrics"
      ]
    },
    {
      "cell_type": "code",
      "execution_count": null,
      "metadata": {},
      "outputs": [
        {
          "name": "stderr",
          "output_type": "stream",
          "text": [
            "/var/folders/qx/sssvngh16h16kvg986485h1r0000gn/T/ipykernel_25237/1171273328.py:24: UserWarning: Glyph 128200 (\\N{CHART WITH UPWARDS TREND}) missing from current font.\n",
            "  plt.tight_layout()\n",
            "/Users/denniskwok/Documents/data-analytics/telecom-churn-ml-prediction/.venv/lib/python3.12/site-packages/IPython/core/pylabtools.py:170: UserWarning: Glyph 128200 (\\N{CHART WITH UPWARDS TREND}) missing from current font.\n",
            "  fig.canvas.print_figure(bytes_io, **kw)\n"
          ]
        },
        {
          "data": {
            "image/png": "[encoded data removed]",
            "text/plain": [
              "<Figure size 800x600 with 1 Axes>"
            ]
          },
          "metadata": {},
          "output_type": "display_data"
        }
      ],
      "source": [
        "from sklearn.metrics import roc_curve, auc\n",
        "\n",
        "plt.figure(figsize=(8,6))\n",
        "\n",
        "for name, model in models_search.items():\n",
        "    pipe = Pipeline(steps=[(\"model\", model)])\n",
        "    pipe.fit(X_train, y_train)\n",
        "    y_prob = pipe.predict_proba(X_test)[:, 1]\n",
        "    fpr, tpr, _ = roc_curve(y_test, y_prob)\n",
        "    roc_auc = auc(fpr, tpr)\n",
        "    plt.plot(fpr, tpr, lw=2, label=f\"{name} (AUC = {roc_auc:.2f})\")\n",
        "\n",
        "plt.plot([0, 1], [0, 1], linestyle=\"--\", color=\"gray\")\n",
        "\n",
        "plt.title(\"📈 ROC Curve Comparison — Logistic Regression vs Random Forest vs XGBoost\")\n",
        "plt.xlabel(\"False Positive Rate\")\n",
        "plt.ylabel(\"True Positive Rate\")\n",
        "plt.legend(loc=\"lower right\")\n",
        "plt.grid(alpha=0.3)\n",
        "plt.tight_layout()\n",
        "plt.show()"
      ]
    },
    {
      "cell_type": "markdown",
      "metadata": {},
      "source": [
        "### Train Advanced Model"
      ]
    },
    {
      "cell_type": "markdown",
      "metadata": {},
      "source": [
        "**Focusing on three models for further hyperparameter tuning**"
      ]
    },
    {
      "cell_type": "code",
      "execution_count": 11,
      "metadata": {},
      "outputs": [],
      "source": [
        "models_search = {\n",
        "    \"AdaBoostClassifier\":AdaBoostClassifier(random_state=89),\n",
        "    \"GradientBoostingClassifier\":GradientBoostingClassifier(random_state=89),\n",
        "    \"LogisticRegression\":LogisticRegression(max_iter=1000, random_state=89),\n",
        "}\n",
        "\n",
        "params_search = {\n",
        "    \"AdaBoostClassifier\": {\"model__n_estimators\": [20, 50]},\n",
        "    \"GradientBoostingClassifier\": {\"model__n_estimators\": [40, 20]},\n",
        "    \"LogisticRegression\": {\"model__C\": [0.1, 1.0, 10.0]}\n",
        "}\n"
      ]
    },
    {
      "cell_type": "code",
      "execution_count": 12,
      "metadata": {},
      "outputs": [
        {
          "name": "stdout",
          "output_type": "stream",
          "text": [
            "\n",
            "Running GridSearchCV for AdaBoostClassifier \n",
            "\n",
            "Fitting 2 folds for each of 2 candidates, totalling 4 fits\n",
            "\n",
            "Running GridSearchCV for GradientBoostingClassifier \n",
            "\n",
            "Fitting 2 folds for each of 2 candidates, totalling 4 fits\n",
            "\n",
            "Running GridSearchCV for LogisticRegression \n",
            "\n",
            "Fitting 2 folds for each of 3 candidates, totalling 6 fits\n"
          ]
        }
      ],
      "source": [
        "search = HyperparameterOptimizationSearch(models=models_search, params=params_search)\n",
        "search.fit(X_train, y_train,\n",
        "           scoring='accuracy',\n",
        "           n_jobs=-1,\n",
        "           cv=2)"
      ]
    },
    {
      "cell_type": "markdown",
      "metadata": {},
      "source": [
        "**Advanced Model Accuracy Summary**"
      ]
    },
    {
      "cell_type": "code",
      "execution_count": 13,
      "metadata": {},
      "outputs": [
        {
          "data": {
            "text/html": [
              "<style type=\"text/css\">\n",
              "#T_de0ea_row0_col1, #T_de0ea_row0_col2, #T_de0ea_row2_col3, #T_de0ea_row6_col4 {\n",
              "  background-color: green;\n",
              "}\n",
              "</style>\n",
              "<table id=\"T_de0ea\">\n",
              "  <thead>\n",
              "    <tr>\n",
              "      <th class=\"blank level0\" >&nbsp;</th>\n",
              "      <th id=\"T_de0ea_level0_col0\" class=\"col_heading level0 col0\" >estimator</th>\n",
              "      <th id=\"T_de0ea_level0_col1\" class=\"col_heading level0 col1\" >min_score</th>\n",
              "      <th id=\"T_de0ea_level0_col2\" class=\"col_heading level0 col2\" >mean_score</th>\n",
              "      <th id=\"T_de0ea_level0_col3\" class=\"col_heading level0 col3\" >max_score</th>\n",
              "      <th id=\"T_de0ea_level0_col4\" class=\"col_heading level0 col4\" >std_score</th>\n",
              "      <th id=\"T_de0ea_level0_col5\" class=\"col_heading level0 col5\" >model__n_estimators</th>\n",
              "      <th id=\"T_de0ea_level0_col6\" class=\"col_heading level0 col6\" >model__C</th>\n",
              "    </tr>\n",
              "  </thead>\n",
              "  <tbody>\n",
              "    <tr>\n",
              "      <th id=\"T_de0ea_level0_row0\" class=\"row_heading level0 row0\" >5</th>\n",
              "      <td id=\"T_de0ea_row0_col0\" class=\"data row0 col0\" >LogisticRegression</td>\n",
              "      <td id=\"T_de0ea_row0_col1\" class=\"data row0 col1\" >0.798722</td>\n",
              "      <td id=\"T_de0ea_row0_col2\" class=\"data row0 col2\" >0.799255</td>\n",
              "      <td id=\"T_de0ea_row0_col3\" class=\"data row0 col3\" >0.799787</td>\n",
              "      <td id=\"T_de0ea_row0_col4\" class=\"data row0 col4\" >0.000532</td>\n",
              "      <td id=\"T_de0ea_row0_col5\" class=\"data row0 col5\" >nan</td>\n",
              "      <td id=\"T_de0ea_row0_col6\" class=\"data row0 col6\" >1.000000</td>\n",
              "    </tr>\n",
              "    <tr>\n",
              "      <th id=\"T_de0ea_level0_row1\" class=\"row_heading level0 row1\" >4</th>\n",
              "      <td id=\"T_de0ea_row1_col0\" class=\"data row1 col0\" >LogisticRegression</td>\n",
              "      <td id=\"T_de0ea_row1_col1\" class=\"data row1 col1\" >0.796947</td>\n",
              "      <td id=\"T_de0ea_row1_col2\" class=\"data row1 col2\" >0.798545</td>\n",
              "      <td id=\"T_de0ea_row1_col3\" class=\"data row1 col3\" >0.800142</td>\n",
              "      <td id=\"T_de0ea_row1_col4\" class=\"data row1 col4\" >0.001597</td>\n",
              "      <td id=\"T_de0ea_row1_col5\" class=\"data row1 col5\" >nan</td>\n",
              "      <td id=\"T_de0ea_row1_col6\" class=\"data row1 col6\" >0.100000</td>\n",
              "    </tr>\n",
              "    <tr>\n",
              "      <th id=\"T_de0ea_level0_row2\" class=\"row_heading level0 row2\" >1</th>\n",
              "      <td id=\"T_de0ea_row2_col0\" class=\"data row2 col0\" >AdaBoostClassifier</td>\n",
              "      <td id=\"T_de0ea_row2_col1\" class=\"data row2 col1\" >0.793752</td>\n",
              "      <td id=\"T_de0ea_row2_col2\" class=\"data row2 col2\" >0.798012</td>\n",
              "      <td id=\"T_de0ea_row2_col3\" class=\"data row2 col3\" >0.802272</td>\n",
              "      <td id=\"T_de0ea_row2_col4\" class=\"data row2 col4\" >0.004260</td>\n",
              "      <td id=\"T_de0ea_row2_col5\" class=\"data row2 col5\" >50</td>\n",
              "      <td id=\"T_de0ea_row2_col6\" class=\"data row2 col6\" >nan</td>\n",
              "    </tr>\n",
              "    <tr>\n",
              "      <th id=\"T_de0ea_level0_row3\" class=\"row_heading level0 row3\" >6</th>\n",
              "      <td id=\"T_de0ea_row3_col0\" class=\"data row3 col0\" >LogisticRegression</td>\n",
              "      <td id=\"T_de0ea_row3_col1\" class=\"data row3 col1\" >0.795527</td>\n",
              "      <td id=\"T_de0ea_row3_col2\" class=\"data row3 col2\" >0.797125</td>\n",
              "      <td id=\"T_de0ea_row3_col3\" class=\"data row3 col3\" >0.798722</td>\n",
              "      <td id=\"T_de0ea_row3_col4\" class=\"data row3 col4\" >0.001597</td>\n",
              "      <td id=\"T_de0ea_row3_col5\" class=\"data row3 col5\" >nan</td>\n",
              "      <td id=\"T_de0ea_row3_col6\" class=\"data row3 col6\" >10.000000</td>\n",
              "    </tr>\n",
              "    <tr>\n",
              "      <th id=\"T_de0ea_level0_row4\" class=\"row_heading level0 row4\" >2</th>\n",
              "      <td id=\"T_de0ea_row4_col0\" class=\"data row4 col0\" >GradientBoostingClassifier</td>\n",
              "      <td id=\"T_de0ea_row4_col1\" class=\"data row4 col1\" >0.793397</td>\n",
              "      <td id=\"T_de0ea_row4_col2\" class=\"data row4 col2\" >0.795705</td>\n",
              "      <td id=\"T_de0ea_row4_col3\" class=\"data row4 col3\" >0.798012</td>\n",
              "      <td id=\"T_de0ea_row4_col4\" class=\"data row4 col4\" >0.002307</td>\n",
              "      <td id=\"T_de0ea_row4_col5\" class=\"data row4 col5\" >40</td>\n",
              "      <td id=\"T_de0ea_row4_col6\" class=\"data row4 col6\" >nan</td>\n",
              "    </tr>\n",
              "    <tr>\n",
              "      <th id=\"T_de0ea_level0_row5\" class=\"row_heading level0 row5\" >3</th>\n",
              "      <td id=\"T_de0ea_row5_col0\" class=\"data row5 col0\" >GradientBoostingClassifier</td>\n",
              "      <td id=\"T_de0ea_row5_col1\" class=\"data row5 col1\" >0.791267</td>\n",
              "      <td id=\"T_de0ea_row5_col2\" class=\"data row5 col2\" >0.793397</td>\n",
              "      <td id=\"T_de0ea_row5_col3\" class=\"data row5 col3\" >0.795527</td>\n",
              "      <td id=\"T_de0ea_row5_col4\" class=\"data row5 col4\" >0.002130</td>\n",
              "      <td id=\"T_de0ea_row5_col5\" class=\"data row5 col5\" >20</td>\n",
              "      <td id=\"T_de0ea_row5_col6\" class=\"data row5 col6\" >nan</td>\n",
              "    </tr>\n",
              "    <tr>\n",
              "      <th id=\"T_de0ea_level0_row6\" class=\"row_heading level0 row6\" >0</th>\n",
              "      <td id=\"T_de0ea_row6_col0\" class=\"data row6 col0\" >AdaBoostClassifier</td>\n",
              "      <td id=\"T_de0ea_row6_col1\" class=\"data row6 col1\" >0.788427</td>\n",
              "      <td id=\"T_de0ea_row6_col2\" class=\"data row6 col2\" >0.793397</td>\n",
              "      <td id=\"T_de0ea_row6_col3\" class=\"data row6 col3\" >0.798367</td>\n",
              "      <td id=\"T_de0ea_row6_col4\" class=\"data row6 col4\" >0.004970</td>\n",
              "      <td id=\"T_de0ea_row6_col5\" class=\"data row6 col5\" >20</td>\n",
              "      <td id=\"T_de0ea_row6_col6\" class=\"data row6 col6\" >nan</td>\n",
              "    </tr>\n",
              "  </tbody>\n",
              "</table>\n"
            ],
            "text/plain": [
              "<pandas.io.formats.style.Styler at 0x2f2c75fd0>"
            ]
          },
          "execution_count": 13,
          "metadata": {},
          "output_type": "execute_result"
        }
      ],
      "source": [
        "grid_search_summary, grid_search_pipelines = search.score_summary(sort_by='mean_score')\n",
        "grid_search_summary.style.highlight_max(axis=0, subset=['min_score', 'mean_score', 'max_score', 'std_score'], color=\"green\")"
      ]
    },
    {
      "cell_type": "markdown",
      "metadata": {},
      "source": [
        "### Second Round Training with tuned hyperparameters"
      ]
    },
    {
      "cell_type": "code",
      "execution_count": 14,
      "metadata": {},
      "outputs": [],
      "source": [
        "# Focusing on three models for further hyperparameter tuning\n",
        "models_search = {\n",
        "    \"AdaBoostClassifier\":AdaBoostClassifier(random_state=89),\n",
        "    \"GradientBoostingClassifier\":GradientBoostingClassifier(random_state=89),\n",
        "    \"LogisticRegression\":LogisticRegression(max_iter=1000, random_state=89),\n",
        "}\n",
        "\n",
        "params_search = {\n",
        "    \"AdaBoostClassifier\": {\"model__n_estimators\": [50, 70]},\n",
        "    \"GradientBoostingClassifier\": {\"model__n_estimators\": [40, 70]},\n",
        "    \"LogisticRegression\": {\"model__C\": [0.1, 1.0, 2.0]}\n",
        "}\n"
      ]
    },
    {
      "cell_type": "code",
      "execution_count": 15,
      "metadata": {},
      "outputs": [
        {
          "name": "stdout",
          "output_type": "stream",
          "text": [
            "\n",
            "Running GridSearchCV for AdaBoostClassifier \n",
            "\n",
            "Fitting 2 folds for each of 2 candidates, totalling 4 fits\n",
            "\n",
            "Running GridSearchCV for GradientBoostingClassifier \n",
            "\n",
            "Fitting 2 folds for each of 2 candidates, totalling 4 fits\n",
            "\n",
            "Running GridSearchCV for LogisticRegression \n",
            "\n",
            "Fitting 2 folds for each of 3 candidates, totalling 6 fits\n"
          ]
        }
      ],
      "source": [
        "search = HyperparameterOptimizationSearch(models=models_search, params=params_search)\n",
        "search.fit(X_train, y_train,\n",
        "           scoring='accuracy',\n",
        "           n_jobs=-1,\n",
        "           cv=2)"
      ]
    },
    {
      "cell_type": "markdown",
      "metadata": {},
      "source": [
        "**Advanced Models Accuracy Summary**"
      ]
    },
    {
      "cell_type": "code",
      "execution_count": 16,
      "metadata": {},
      "outputs": [
        {
          "data": {
            "text/html": [
              "<style type=\"text/css\">\n",
              "#T_a6802_row0_col1, #T_a6802_row0_col2, #T_a6802_row3_col3, #T_a6802_row3_col4 {\n",
              "  background-color: green;\n",
              "}\n",
              "</style>\n",
              "<table id=\"T_a6802\">\n",
              "  <thead>\n",
              "    <tr>\n",
              "      <th class=\"blank level0\" >&nbsp;</th>\n",
              "      <th id=\"T_a6802_level0_col0\" class=\"col_heading level0 col0\" >estimator</th>\n",
              "      <th id=\"T_a6802_level0_col1\" class=\"col_heading level0 col1\" >min_score</th>\n",
              "      <th id=\"T_a6802_level0_col2\" class=\"col_heading level0 col2\" >mean_score</th>\n",
              "      <th id=\"T_a6802_level0_col3\" class=\"col_heading level0 col3\" >max_score</th>\n",
              "      <th id=\"T_a6802_level0_col4\" class=\"col_heading level0 col4\" >std_score</th>\n",
              "      <th id=\"T_a6802_level0_col5\" class=\"col_heading level0 col5\" >model__n_estimators</th>\n",
              "      <th id=\"T_a6802_level0_col6\" class=\"col_heading level0 col6\" >model__C</th>\n",
              "    </tr>\n",
              "  </thead>\n",
              "  <tbody>\n",
              "    <tr>\n",
              "      <th id=\"T_a6802_level0_row0\" class=\"row_heading level0 row0\" >5</th>\n",
              "      <td id=\"T_a6802_row0_col0\" class=\"data row0 col0\" >LogisticRegression</td>\n",
              "      <td id=\"T_a6802_row0_col1\" class=\"data row0 col1\" >0.798722</td>\n",
              "      <td id=\"T_a6802_row0_col2\" class=\"data row0 col2\" >0.799255</td>\n",
              "      <td id=\"T_a6802_row0_col3\" class=\"data row0 col3\" >0.799787</td>\n",
              "      <td id=\"T_a6802_row0_col4\" class=\"data row0 col4\" >0.000532</td>\n",
              "      <td id=\"T_a6802_row0_col5\" class=\"data row0 col5\" >nan</td>\n",
              "      <td id=\"T_a6802_row0_col6\" class=\"data row0 col6\" >1.000000</td>\n",
              "    </tr>\n",
              "    <tr>\n",
              "      <th id=\"T_a6802_level0_row1\" class=\"row_heading level0 row1\" >6</th>\n",
              "      <td id=\"T_a6802_row1_col0\" class=\"data row1 col0\" >LogisticRegression</td>\n",
              "      <td id=\"T_a6802_row1_col1\" class=\"data row1 col1\" >0.798367</td>\n",
              "      <td id=\"T_a6802_row1_col2\" class=\"data row1 col2\" >0.798722</td>\n",
              "      <td id=\"T_a6802_row1_col3\" class=\"data row1 col3\" >0.799077</td>\n",
              "      <td id=\"T_a6802_row1_col4\" class=\"data row1 col4\" >0.000355</td>\n",
              "      <td id=\"T_a6802_row1_col5\" class=\"data row1 col5\" >nan</td>\n",
              "      <td id=\"T_a6802_row1_col6\" class=\"data row1 col6\" >2.000000</td>\n",
              "    </tr>\n",
              "    <tr>\n",
              "      <th id=\"T_a6802_level0_row2\" class=\"row_heading level0 row2\" >4</th>\n",
              "      <td id=\"T_a6802_row2_col0\" class=\"data row2 col0\" >LogisticRegression</td>\n",
              "      <td id=\"T_a6802_row2_col1\" class=\"data row2 col1\" >0.796947</td>\n",
              "      <td id=\"T_a6802_row2_col2\" class=\"data row2 col2\" >0.798545</td>\n",
              "      <td id=\"T_a6802_row2_col3\" class=\"data row2 col3\" >0.800142</td>\n",
              "      <td id=\"T_a6802_row2_col4\" class=\"data row2 col4\" >0.001597</td>\n",
              "      <td id=\"T_a6802_row2_col5\" class=\"data row2 col5\" >nan</td>\n",
              "      <td id=\"T_a6802_row2_col6\" class=\"data row2 col6\" >0.100000</td>\n",
              "    </tr>\n",
              "    <tr>\n",
              "      <th id=\"T_a6802_level0_row3\" class=\"row_heading level0 row3\" >0</th>\n",
              "      <td id=\"T_a6802_row3_col0\" class=\"data row3 col0\" >AdaBoostClassifier</td>\n",
              "      <td id=\"T_a6802_row3_col1\" class=\"data row3 col1\" >0.793752</td>\n",
              "      <td id=\"T_a6802_row3_col2\" class=\"data row3 col2\" >0.798012</td>\n",
              "      <td id=\"T_a6802_row3_col3\" class=\"data row3 col3\" >0.802272</td>\n",
              "      <td id=\"T_a6802_row3_col4\" class=\"data row3 col4\" >0.004260</td>\n",
              "      <td id=\"T_a6802_row3_col5\" class=\"data row3 col5\" >50</td>\n",
              "      <td id=\"T_a6802_row3_col6\" class=\"data row3 col6\" >nan</td>\n",
              "    </tr>\n",
              "    <tr>\n",
              "      <th id=\"T_a6802_level0_row4\" class=\"row_heading level0 row4\" >3</th>\n",
              "      <td id=\"T_a6802_row4_col0\" class=\"data row4 col0\" >GradientBoostingClassifier</td>\n",
              "      <td id=\"T_a6802_row4_col1\" class=\"data row4 col1\" >0.794817</td>\n",
              "      <td id=\"T_a6802_row4_col2\" class=\"data row4 col2\" >0.796415</td>\n",
              "      <td id=\"T_a6802_row4_col3\" class=\"data row4 col3\" >0.798012</td>\n",
              "      <td id=\"T_a6802_row4_col4\" class=\"data row4 col4\" >0.001597</td>\n",
              "      <td id=\"T_a6802_row4_col5\" class=\"data row4 col5\" >70</td>\n",
              "      <td id=\"T_a6802_row4_col6\" class=\"data row4 col6\" >nan</td>\n",
              "    </tr>\n",
              "    <tr>\n",
              "      <th id=\"T_a6802_level0_row5\" class=\"row_heading level0 row5\" >2</th>\n",
              "      <td id=\"T_a6802_row5_col0\" class=\"data row5 col0\" >GradientBoostingClassifier</td>\n",
              "      <td id=\"T_a6802_row5_col1\" class=\"data row5 col1\" >0.793397</td>\n",
              "      <td id=\"T_a6802_row5_col2\" class=\"data row5 col2\" >0.795705</td>\n",
              "      <td id=\"T_a6802_row5_col3\" class=\"data row5 col3\" >0.798012</td>\n",
              "      <td id=\"T_a6802_row5_col4\" class=\"data row5 col4\" >0.002307</td>\n",
              "      <td id=\"T_a6802_row5_col5\" class=\"data row5 col5\" >40</td>\n",
              "      <td id=\"T_a6802_row5_col6\" class=\"data row5 col6\" >nan</td>\n",
              "    </tr>\n",
              "    <tr>\n",
              "      <th id=\"T_a6802_level0_row6\" class=\"row_heading level0 row6\" >1</th>\n",
              "      <td id=\"T_a6802_row6_col0\" class=\"data row6 col0\" >AdaBoostClassifier</td>\n",
              "      <td id=\"T_a6802_row6_col1\" class=\"data row6 col1\" >0.794817</td>\n",
              "      <td id=\"T_a6802_row6_col2\" class=\"data row6 col2\" >0.795527</td>\n",
              "      <td id=\"T_a6802_row6_col3\" class=\"data row6 col3\" >0.796237</td>\n",
              "      <td id=\"T_a6802_row6_col4\" class=\"data row6 col4\" >0.000710</td>\n",
              "      <td id=\"T_a6802_row6_col5\" class=\"data row6 col5\" >70</td>\n",
              "      <td id=\"T_a6802_row6_col6\" class=\"data row6 col6\" >nan</td>\n",
              "    </tr>\n",
              "  </tbody>\n",
              "</table>\n"
            ],
            "text/plain": [
              "<pandas.io.formats.style.Styler at 0x2e91a2120>"
            ]
          },
          "execution_count": 16,
          "metadata": {},
          "output_type": "execute_result"
        }
      ],
      "source": [
        "grid_search_summary, grid_search_pipelines = search.score_summary(sort_by='mean_score')\n",
        "grid_search_summary\n",
        "\n",
        "grid_search_summary.style.highlight_max(axis=0, subset=['min_score', 'mean_score', 'max_score', 'std_score'], color=\"green\")"
      ]
    },
    {
      "cell_type": "markdown",
      "metadata": {},
      "source": [
        "**Performance Metrics Models with Best Hyperparameters Tuning**"
      ]
    },
    {
      "cell_type": "code",
      "execution_count": 17,
      "metadata": {},
      "outputs": [
        {
          "data": {
            "text/html": [
              "<style type=\"text/css\">\n",
              "#T_ce0ea_row0_col2, #T_ce0ea_row0_col3, #T_ce0ea_row0_col5, #T_ce0ea_row0_col6, #T_ce0ea_row1_col7, #T_ce0ea_row2_col4 {\n",
              "  background-color: green;\n",
              "}\n",
              "</style>\n",
              "<table id=\"T_ce0ea\">\n",
              "  <thead>\n",
              "    <tr>\n",
              "      <th class=\"blank level0\" >&nbsp;</th>\n",
              "      <th id=\"T_ce0ea_level0_col0\" class=\"col_heading level0 col0\" >Model</th>\n",
              "      <th id=\"T_ce0ea_level0_col1\" class=\"col_heading level0 col1\" >Best Params</th>\n",
              "      <th id=\"T_ce0ea_level0_col2\" class=\"col_heading level0 col2\" >CV_Accuracy</th>\n",
              "      <th id=\"T_ce0ea_level0_col3\" class=\"col_heading level0 col3\" >Test_Accuracy</th>\n",
              "      <th id=\"T_ce0ea_level0_col4\" class=\"col_heading level0 col4\" >Test_Precision</th>\n",
              "      <th id=\"T_ce0ea_level0_col5\" class=\"col_heading level0 col5\" >Test_Recall</th>\n",
              "      <th id=\"T_ce0ea_level0_col6\" class=\"col_heading level0 col6\" >Test_F1</th>\n",
              "      <th id=\"T_ce0ea_level0_col7\" class=\"col_heading level0 col7\" >Test_ROC-AUC</th>\n",
              "    </tr>\n",
              "  </thead>\n",
              "  <tbody>\n",
              "    <tr>\n",
              "      <th id=\"T_ce0ea_level0_row0\" class=\"row_heading level0 row0\" >0</th>\n",
              "      <td id=\"T_ce0ea_row0_col0\" class=\"data row0 col0\" >LogisticRegression</td>\n",
              "      <td id=\"T_ce0ea_row0_col1\" class=\"data row0 col1\" >{'model__C': 1.0}</td>\n",
              "      <td id=\"T_ce0ea_row0_col2\" class=\"data row0 col2\" >0.799000</td>\n",
              "      <td id=\"T_ce0ea_row0_col3\" class=\"data row0 col3\" >0.818000</td>\n",
              "      <td id=\"T_ce0ea_row0_col4\" class=\"data row0 col4\" >0.690000</td>\n",
              "      <td id=\"T_ce0ea_row0_col5\" class=\"data row0 col5\" >0.537000</td>\n",
              "      <td id=\"T_ce0ea_row0_col6\" class=\"data row0 col6\" >0.604000</td>\n",
              "      <td id=\"T_ce0ea_row0_col7\" class=\"data row0 col7\" >0.850000</td>\n",
              "    </tr>\n",
              "    <tr>\n",
              "      <th id=\"T_ce0ea_level0_row1\" class=\"row_heading level0 row1\" >1</th>\n",
              "      <td id=\"T_ce0ea_row1_col0\" class=\"data row1 col0\" >AdaBoostClassifier</td>\n",
              "      <td id=\"T_ce0ea_row1_col1\" class=\"data row1 col1\" >{'model__n_estimators': 50}</td>\n",
              "      <td id=\"T_ce0ea_row1_col2\" class=\"data row1 col2\" >0.798000</td>\n",
              "      <td id=\"T_ce0ea_row1_col3\" class=\"data row1 col3\" >0.811000</td>\n",
              "      <td id=\"T_ce0ea_row1_col4\" class=\"data row1 col4\" >0.684000</td>\n",
              "      <td id=\"T_ce0ea_row1_col5\" class=\"data row1 col5\" >0.504000</td>\n",
              "      <td id=\"T_ce0ea_row1_col6\" class=\"data row1 col6\" >0.580000</td>\n",
              "      <td id=\"T_ce0ea_row1_col7\" class=\"data row1 col7\" >0.853000</td>\n",
              "    </tr>\n",
              "    <tr>\n",
              "      <th id=\"T_ce0ea_level0_row2\" class=\"row_heading level0 row2\" >2</th>\n",
              "      <td id=\"T_ce0ea_row2_col0\" class=\"data row2 col0\" >GradientBoostingClassifier</td>\n",
              "      <td id=\"T_ce0ea_row2_col1\" class=\"data row2 col1\" >{'model__n_estimators': 70}</td>\n",
              "      <td id=\"T_ce0ea_row2_col2\" class=\"data row2 col2\" >0.796000</td>\n",
              "      <td id=\"T_ce0ea_row2_col3\" class=\"data row2 col3\" >0.812000</td>\n",
              "      <td id=\"T_ce0ea_row2_col4\" class=\"data row2 col4\" >0.691000</td>\n",
              "      <td id=\"T_ce0ea_row2_col5\" class=\"data row2 col5\" >0.496000</td>\n",
              "      <td id=\"T_ce0ea_row2_col6\" class=\"data row2 col6\" >0.577000</td>\n",
              "      <td id=\"T_ce0ea_row2_col7\" class=\"data row2 col7\" >0.851000</td>\n",
              "    </tr>\n",
              "  </tbody>\n",
              "</table>\n"
            ],
            "text/plain": [
              "<pandas.io.formats.style.Styler at 0x2f5a44b60>"
            ]
          },
          "execution_count": 17,
          "metadata": {},
          "output_type": "execute_result"
        }
      ],
      "source": [
        "grid_metrics = search.performance_metrics(X_test, y_test, sort_by='CV_Accuracy')\n",
        "grid_metrics"
      ]
    },
    {
      "cell_type": "markdown",
      "metadata": {},
      "source": [
        "**Best performance model**"
      ]
    },
    {
      "cell_type": "code",
      "execution_count": 18,
      "metadata": {},
      "outputs": [
        {
          "data": {
            "text/plain": [
              "'LogisticRegression'"
            ]
          },
          "execution_count": 18,
          "metadata": {},
          "output_type": "execute_result"
        }
      ],
      "source": [
        "best_model = grid_search_summary.iloc[0,0]\n",
        "best_model"
      ]
    },
    {
      "cell_type": "code",
      "execution_count": 19,
      "metadata": {},
      "outputs": [
        {
          "data": {
            "text/plain": [
              "{'model__C': 1.0}"
            ]
          },
          "execution_count": 19,
          "metadata": {},
          "output_type": "execute_result"
        }
      ],
      "source": [
        "grid_search_pipelines[best_model].best_params_"
      ]
    },
    {
      "cell_type": "code",
      "execution_count": 20,
      "metadata": {},
      "outputs": [
        {
          "data": {
            "text/html": [
              "<style>#sk-container-id-1 {color: black;}#sk-container-id-1 pre{padding: 0;}#sk-container-id-1 div.sk-toggleable {background-color: white;}#sk-container-id-1 label.sk-toggleable__label {cursor: pointer;display: block;width: 100%;margin-bottom: 0;padding: 0.3em;box-sizing: border-box;text-align: center;}#sk-container-id-1 label.sk-toggleable__label-arrow:before {content: \"▸\";float: left;margin-right: 0.25em;color: #696969;}#sk-container-id-1 label.sk-toggleable__label-arrow:hover:before {color: black;}#sk-container-id-1 div.sk-estimator:hover label.sk-toggleable__label-arrow:before {color: black;}#sk-container-id-1 div.sk-toggleable__content {max-height: 0;max-width: 0;overflow: hidden;text-align: left;background-color: #f0f8ff;}#sk-container-id-1 div.sk-toggleable__content pre {margin: 0.2em;color: black;border-radius: 0.25em;background-color: #f0f8ff;}#sk-container-id-1 input.sk-toggleable__control:checked~div.sk-toggleable__content {max-height: 200px;max-width: 100%;overflow: auto;}#sk-container-id-1 input.sk-toggleable__control:checked~label.sk-toggleable__label-arrow:before {content: \"▾\";}#sk-container-id-1 div.sk-estimator input.sk-toggleable__control:checked~label.sk-toggleable__label {background-color: #d4ebff;}#sk-container-id-1 div.sk-label input.sk-toggleable__control:checked~label.sk-toggleable__label {background-color: #d4ebff;}#sk-container-id-1 input.sk-hidden--visually {border: 0;clip: rect(1px 1px 1px 1px);clip: rect(1px, 1px, 1px, 1px);height: 1px;margin: -1px;overflow: hidden;padding: 0;position: absolute;width: 1px;}#sk-container-id-1 div.sk-estimator {font-family: monospace;background-color: #f0f8ff;border: 1px dotted black;border-radius: 0.25em;box-sizing: border-box;margin-bottom: 0.5em;}#sk-container-id-1 div.sk-estimator:hover {background-color: #d4ebff;}#sk-container-id-1 div.sk-parallel-item::after {content: \"\";width: 100%;border-bottom: 1px solid gray;flex-grow: 1;}#sk-container-id-1 div.sk-label:hover label.sk-toggleable__label {background-color: #d4ebff;}#sk-container-id-1 div.sk-serial::before {content: \"\";position: absolute;border-left: 1px solid gray;box-sizing: border-box;top: 0;bottom: 0;left: 50%;z-index: 0;}#sk-container-id-1 div.sk-serial {display: flex;flex-direction: column;align-items: center;background-color: white;padding-right: 0.2em;padding-left: 0.2em;position: relative;}#sk-container-id-1 div.sk-item {position: relative;z-index: 1;}#sk-container-id-1 div.sk-parallel {display: flex;align-items: stretch;justify-content: center;background-color: white;position: relative;}#sk-container-id-1 div.sk-item::before, #sk-container-id-1 div.sk-parallel-item::before {content: \"\";position: absolute;border-left: 1px solid gray;box-sizing: border-box;top: 0;bottom: 0;left: 50%;z-index: -1;}#sk-container-id-1 div.sk-parallel-item {display: flex;flex-direction: column;z-index: 1;position: relative;background-color: white;}#sk-container-id-1 div.sk-parallel-item:first-child::after {align-self: flex-end;width: 50%;}#sk-container-id-1 div.sk-parallel-item:last-child::after {align-self: flex-start;width: 50%;}#sk-container-id-1 div.sk-parallel-item:only-child::after {width: 0;}#sk-container-id-1 div.sk-dashed-wrapped {border: 1px dashed gray;margin: 0 0.4em 0.5em 0.4em;box-sizing: border-box;padding-bottom: 0.4em;background-color: white;}#sk-container-id-1 div.sk-label label {font-family: monospace;font-weight: bold;display: inline-block;line-height: 1.2em;}#sk-container-id-1 div.sk-label-container {text-align: center;}#sk-container-id-1 div.sk-container {/* jupyter's `normalize.less` sets `[hidden] { display: none; }` but bootstrap.min.css set `[hidden] { display: none !important; }` so we also need the `!important` here to be able to override the default hidden behavior on the sphinx rendered scikit-learn.org. See: https://github.com/scikit-learn/scikit-learn/issues/21755 */display: inline-block !important;position: relative;}#sk-container-id-1 div.sk-text-repr-fallback {display: none;}</style><div id=\"sk-container-id-1\" class=\"sk-top-container\"><div class=\"sk-text-repr-fallback\"><pre>Pipeline(steps=[(&#x27;model&#x27;, LogisticRegression(max_iter=1000, random_state=89))])</pre><b>In a Jupyter environment, please rerun this cell to show the HTML representation or trust the notebook. <br />On GitHub, the HTML representation is unable to render, please try loading this page with nbviewer.org.</b></div><div class=\"sk-container\" hidden><div class=\"sk-item sk-dashed-wrapped\"><div class=\"sk-label-container\"><div class=\"sk-label sk-toggleable\"><input class=\"sk-toggleable__control sk-hidden--visually\" id=\"sk-estimator-id-1\" type=\"checkbox\" ><label for=\"sk-estimator-id-1\" class=\"sk-toggleable__label sk-toggleable__label-arrow\">Pipeline</label><div class=\"sk-toggleable__content\"><pre>Pipeline(steps=[(&#x27;model&#x27;, LogisticRegression(max_iter=1000, random_state=89))])</pre></div></div></div><div class=\"sk-serial\"><div class=\"sk-item\"><div class=\"sk-estimator sk-toggleable\"><input class=\"sk-toggleable__control sk-hidden--visually\" id=\"sk-estimator-id-2\" type=\"checkbox\" ><label for=\"sk-estimator-id-2\" class=\"sk-toggleable__label sk-toggleable__label-arrow\">LogisticRegression</label><div class=\"sk-toggleable__content\"><pre>LogisticRegression(max_iter=1000, random_state=89)</pre></div></div></div></div></div></div></div>"
            ],
            "text/plain": [
              "Pipeline(steps=[('model', LogisticRegression(max_iter=1000, random_state=89))])"
            ]
          },
          "execution_count": 20,
          "metadata": {},
          "output_type": "execute_result"
        }
      ],
      "source": [
        "best_pipeline = grid_search_pipelines[best_model].best_estimator_\n",
        "best_pipeline"
      ]
    },
    {
      "cell_type": "markdown",
      "metadata": {},
      "source": [
        "**Confusion Matrix: Detailed performance breakdown for train/test sets**"
      ]
    },
    {
      "cell_type": "code",
      "execution_count": 21,
      "metadata": {},
      "outputs": [
        {
          "name": "stdout",
          "output_type": "stream",
          "text": [
            "#### Train Set #### \n",
            "\n",
            "---  Confusion Matrix  ---\n",
            "            Prediction 0.0  Prediction 1.0\n",
            "Actual 0.0            3682             448\n",
            "Actual 1.0             671             833\n",
            "\n",
            "\n",
            "---  Classification Report  ---\n",
            "              precision    recall  f1-score   support\n",
            "\n",
            "         0.0       0.85      0.89      0.87      4130\n",
            "         1.0       0.65      0.55      0.60      1504\n",
            "\n",
            "    accuracy                           0.80      5634\n",
            "   macro avg       0.75      0.72      0.73      5634\n",
            "weighted avg       0.79      0.80      0.80      5634\n",
            " \n",
            "\n",
            "#### Test Set ####\n",
            "\n",
            "---  Confusion Matrix  ---\n",
            "            Prediction 0.0  Prediction 1.0\n",
            "Actual 0.0             956              88\n",
            "Actual 1.0             169             196\n",
            "\n",
            "\n",
            "---  Classification Report  ---\n",
            "              precision    recall  f1-score   support\n",
            "\n",
            "         0.0       0.85      0.92      0.88      1044\n",
            "         1.0       0.69      0.54      0.60       365\n",
            "\n",
            "    accuracy                           0.82      1409\n",
            "   macro avg       0.77      0.73      0.74      1409\n",
            "weighted avg       0.81      0.82      0.81      1409\n",
            " \n",
            "\n"
          ]
        }
      ],
      "source": [
        "from sklearn.metrics import classification_report, confusion_matrix\n",
        "\n",
        "def confusion_matrix_and_report(X, y, pipeline, label_map):\n",
        "  prediction = pipeline.predict(X)\n",
        "\n",
        "  print('---  Confusion Matrix  ---')\n",
        "  # Ensure label_map is string type for concatenation\n",
        "  label_map_str = [str(sub) for sub in label_map]\n",
        "  print(pd.DataFrame(confusion_matrix(y, prediction),\n",
        "    columns=[ \"Prediction \" + sub for sub in label_map_str ],\n",
        "    index=[ \"Actual \" + sub for sub in label_map_str ]\n",
        "    ))\n",
        "  print(\"\\n\")\n",
        "\n",
        "  print('---  Classification Report  ---')\n",
        "  print(classification_report(y, prediction), \"\\n\")\n",
        "\n",
        "\n",
        "def clf_performance(X_train, y_train, X_test, y_test, pipeline, label_map):\n",
        "  print(\"#### Train Set #### \\n\")\n",
        "  confusion_matrix_and_report(X_train, y_train, pipeline, label_map)\n",
        "\n",
        "  print(\"#### Test Set ####\\n\")\n",
        "  confusion_matrix_and_report(X_test, y_test, pipeline, label_map)\n",
        "  \n",
        "clf_performance(X_train=X_train, y_train=y_train,\n",
        "                X_test=X_test, y_test=y_test,\n",
        "                pipeline=best_pipeline,\n",
        "                label_map= df_encoded['Churn_Yes'].unique() \n",
        "                # In this case, the target variable is encoded as categories and we\n",
        "                # get the values with .unique()\n",
        "                )"
      ]
    },
    {
      "cell_type": "markdown",
      "metadata": {},
      "source": [
        "**Feature Importance: Top 15 features visualized with coefficient values**"
      ]
    },
    {
      "cell_type": "code",
      "execution_count": 22,
      "metadata": {},
      "outputs": [
        {
          "name": "stderr",
          "output_type": "stream",
          "text": [
            "/Users/denniskwok/Documents/data-analytics/telecom-churn-ml-prediction/.venv/lib/python3.12/site-packages/IPython/core/pylabtools.py:170: UserWarning: Glyph 128269 (\\N{LEFT-POINTING MAGNIFYING GLASS}) missing from current font.\n",
            "  fig.canvas.print_figure(bytes_io, **kw)\n"
          ]
        },
        {
          "data": {
            "image/png": "[encoded data removed]",
            "text/plain": [
              "<Figure size 800x600 with 1 Axes>"
            ]
          },
          "metadata": {},
          "output_type": "display_data"
        },
        {
          "data": {
            "text/html": [
              "<div>\n",
              "<style scoped>\n",
              "    .dataframe tbody tr th:only-of-type {\n",
              "        vertical-align: middle;\n",
              "    }\n",
              "\n",
              "    .dataframe tbody tr th {\n",
              "        vertical-align: top;\n",
              "    }\n",
              "\n",
              "    .dataframe thead th {\n",
              "        text-align: right;\n",
              "    }\n",
              "</style>\n",
              "<table border=\"1\" class=\"dataframe\">\n",
              "  <thead>\n",
              "    <tr style=\"text-align: right;\">\n",
              "      <th></th>\n",
              "      <th>Feature</th>\n",
              "      <th>Coefficient</th>\n",
              "      <th>Importance</th>\n",
              "    </tr>\n",
              "  </thead>\n",
              "  <tbody>\n",
              "    <tr>\n",
              "      <th>0</th>\n",
              "      <td>tenure</td>\n",
              "      <td>-1.439175</td>\n",
              "      <td>1.439175</td>\n",
              "    </tr>\n",
              "    <tr>\n",
              "      <th>19</th>\n",
              "      <td>Contract_Two year</td>\n",
              "      <td>-1.426718</td>\n",
              "      <td>1.426718</td>\n",
              "    </tr>\n",
              "    <tr>\n",
              "      <th>10</th>\n",
              "      <td>InternetService_Fiber optic</td>\n",
              "      <td>0.859025</td>\n",
              "      <td>0.859025</td>\n",
              "    </tr>\n",
              "    <tr>\n",
              "      <th>18</th>\n",
              "      <td>Contract_One year</td>\n",
              "      <td>-0.770262</td>\n",
              "      <td>0.770262</td>\n",
              "    </tr>\n",
              "    <tr>\n",
              "      <th>2</th>\n",
              "      <td>TotalCharges</td>\n",
              "      <td>0.719103</td>\n",
              "      <td>0.719103</td>\n",
              "    </tr>\n",
              "    <tr>\n",
              "      <th>11</th>\n",
              "      <td>InternetService_No</td>\n",
              "      <td>-0.455583</td>\n",
              "      <td>0.455583</td>\n",
              "    </tr>\n",
              "    <tr>\n",
              "      <th>25</th>\n",
              "      <td>CustomerType_Phone only</td>\n",
              "      <td>-0.455583</td>\n",
              "      <td>0.455583</td>\n",
              "    </tr>\n",
              "    <tr>\n",
              "      <th>12</th>\n",
              "      <td>OnlineSecurity_Yes</td>\n",
              "      <td>-0.376886</td>\n",
              "      <td>0.376886</td>\n",
              "    </tr>\n",
              "    <tr>\n",
              "      <th>16</th>\n",
              "      <td>StreamingTV_Yes</td>\n",
              "      <td>0.345024</td>\n",
              "      <td>0.345024</td>\n",
              "    </tr>\n",
              "    <tr>\n",
              "      <th>20</th>\n",
              "      <td>PaperlessBilling_Yes</td>\n",
              "      <td>0.311920</td>\n",
              "      <td>0.311920</td>\n",
              "    </tr>\n",
              "    <tr>\n",
              "      <th>22</th>\n",
              "      <td>PaymentMethod_Electronic check</td>\n",
              "      <td>0.299304</td>\n",
              "      <td>0.299304</td>\n",
              "    </tr>\n",
              "    <tr>\n",
              "      <th>15</th>\n",
              "      <td>TechSupport_Yes</td>\n",
              "      <td>-0.296223</td>\n",
              "      <td>0.296223</td>\n",
              "    </tr>\n",
              "    <tr>\n",
              "      <th>9</th>\n",
              "      <td>MultipleLines_Yes</td>\n",
              "      <td>0.244434</td>\n",
              "      <td>0.244434</td>\n",
              "    </tr>\n",
              "    <tr>\n",
              "      <th>17</th>\n",
              "      <td>StreamingMovies_Yes</td>\n",
              "      <td>0.241262</td>\n",
              "      <td>0.241262</td>\n",
              "    </tr>\n",
              "    <tr>\n",
              "      <th>1</th>\n",
              "      <td>MonthlyCharges</td>\n",
              "      <td>-0.180834</td>\n",
              "      <td>0.180834</td>\n",
              "    </tr>\n",
              "  </tbody>\n",
              "</table>\n",
              "</div>"
            ],
            "text/plain": [
              "                           Feature  Coefficient  Importance\n",
              "0                           tenure    -1.439175    1.439175\n",
              "19               Contract_Two year    -1.426718    1.426718\n",
              "10     InternetService_Fiber optic     0.859025    0.859025\n",
              "18               Contract_One year    -0.770262    0.770262\n",
              "2                     TotalCharges     0.719103    0.719103\n",
              "11              InternetService_No    -0.455583    0.455583\n",
              "25         CustomerType_Phone only    -0.455583    0.455583\n",
              "12              OnlineSecurity_Yes    -0.376886    0.376886\n",
              "16                 StreamingTV_Yes     0.345024    0.345024\n",
              "20            PaperlessBilling_Yes     0.311920    0.311920\n",
              "22  PaymentMethod_Electronic check     0.299304    0.299304\n",
              "15                 TechSupport_Yes    -0.296223    0.296223\n",
              "9                MultipleLines_Yes     0.244434    0.244434\n",
              "17             StreamingMovies_Yes     0.241262    0.241262\n",
              "1                   MonthlyCharges    -0.180834    0.180834"
            ]
          },
          "execution_count": 22,
          "metadata": {},
          "output_type": "execute_result"
        }
      ],
      "source": [
        "# Logistic Regression Feature Importance using fitted best_pipeline\n",
        "coefs = best_pipeline['model'].coef_[0]\n",
        "feature_names = X_train.columns\n",
        "\n",
        "feature_importance = pd.DataFrame({\n",
        "    \"Feature\": feature_names,\n",
        "    \"Coefficient\": coefs,\n",
        "    \"Importance\": np.abs(coefs)\n",
        "}).sort_values(by=\"Importance\", ascending=False)\n",
        "\n",
        "# =========================\n",
        "# Plot Top 15 Features\n",
        "# =========================\n",
        "plt.figure(figsize=(8,6))\n",
        "plt.barh(feature_importance[\"Feature\"].head(15)[::-1],\n",
        "         feature_importance[\"Coefficient\"].head(15)[::-1],\n",
        "         color=\"skyblue\")\n",
        "plt.xlabel(\"Coefficient Value\")\n",
        "plt.title(\"🔍 Logistic Regression Feature Importance (Top 15)\")\n",
        "plt.grid(axis=\"x\", linestyle=\"--\", alpha=0.7)\n",
        "plt.show()\n",
        "\n",
        "feature_importance.head(15)"
      ]
    },
    {
      "cell_type": "markdown",
      "metadata": {},
      "source": [
        "**Top Churn Drivers:**\n",
        "* Customer tenure (negative correlation - longer tenure = lower churn)\n",
        "* Contract type (month-to-month contracts = higher churn)\n",
        "* Internet add-on services (OnlineSecurity, TechSupport reduce churn)"
      ]
    },
    {
      "cell_type": "markdown",
      "metadata": {},
      "source": [
        "### Refit only with the most important features"
      ]
    },
    {
      "cell_type": "code",
      "execution_count": 23,
      "metadata": {},
      "outputs": [
        {
          "data": {
            "text/plain": [
              "['tenure',\n",
              " 'Contract_Two year',\n",
              " 'InternetService_Fiber optic',\n",
              " 'Contract_One year',\n",
              " 'TotalCharges',\n",
              " 'InternetService_No',\n",
              " 'CustomerType_Phone only',\n",
              " 'OnlineSecurity_Yes',\n",
              " 'StreamingTV_Yes',\n",
              " 'PaperlessBilling_Yes',\n",
              " 'PaymentMethod_Electronic check',\n",
              " 'TechSupport_Yes',\n",
              " 'MultipleLines_Yes',\n",
              " 'StreamingMovies_Yes',\n",
              " 'MonthlyCharges',\n",
              " 'Dependents_Yes',\n",
              " 'CustomerType_Internet only',\n",
              " 'MultipleLines_No phone service',\n",
              " 'PhoneService_Yes',\n",
              " 'PaymentMethod_Mailed check',\n",
              " 'PaymentMethod_Credit card (automatic)',\n",
              " 'NumInternetServices',\n",
              " 'Partner_Yes',\n",
              " 'OnlineBackup_Yes',\n",
              " 'DeviceProtection_Yes',\n",
              " 'gender_Male']"
            ]
          },
          "execution_count": 23,
          "metadata": {},
          "output_type": "execute_result"
        }
      ],
      "source": [
        "best_features = feature_importance[\"Feature\"].tolist()\n",
        "best_features\n"
      ]
    },
    {
      "cell_type": "code",
      "execution_count": 24,
      "metadata": {},
      "outputs": [
        {
          "name": "stdout",
          "output_type": "stream",
          "text": [
            "* Train set: (5634, 26) (5634,) \n",
            "* Test set: (1409, 26) (1409,)\n"
          ]
        }
      ],
      "source": [
        "X_train, X_test,y_train, y_test = train_test_split(\n",
        "                                    df_encoded.drop(['Churn_Yes'],axis=1),\n",
        "                                    df_encoded['Churn_Yes'],\n",
        "                                    test_size=0.2,\n",
        "                                    random_state=89\n",
        "                                    )\n",
        "\n",
        "print(\"* Train set:\", X_train.shape, y_train.shape, \"\\n* Test set:\",  X_test.shape, y_test.shape)"
      ]
    },
    {
      "cell_type": "code",
      "execution_count": 25,
      "metadata": {},
      "outputs": [
        {
          "name": "stdout",
          "output_type": "stream",
          "text": [
            "* Train set: (5634, 26) (5634,) \n",
            "* Test set: (1409, 26) (1409,)\n"
          ]
        },
        {
          "data": {
            "text/html": [
              "<div>\n",
              "<style scoped>\n",
              "    .dataframe tbody tr th:only-of-type {\n",
              "        vertical-align: middle;\n",
              "    }\n",
              "\n",
              "    .dataframe tbody tr th {\n",
              "        vertical-align: top;\n",
              "    }\n",
              "\n",
              "    .dataframe thead th {\n",
              "        text-align: right;\n",
              "    }\n",
              "</style>\n",
              "<table border=\"1\" class=\"dataframe\">\n",
              "  <thead>\n",
              "    <tr style=\"text-align: right;\">\n",
              "      <th></th>\n",
              "      <th>tenure</th>\n",
              "      <th>Contract_Two year</th>\n",
              "      <th>InternetService_Fiber optic</th>\n",
              "      <th>Contract_One year</th>\n",
              "      <th>TotalCharges</th>\n",
              "      <th>InternetService_No</th>\n",
              "      <th>CustomerType_Phone only</th>\n",
              "      <th>OnlineSecurity_Yes</th>\n",
              "      <th>StreamingTV_Yes</th>\n",
              "      <th>PaperlessBilling_Yes</th>\n",
              "      <th>...</th>\n",
              "      <th>CustomerType_Internet only</th>\n",
              "      <th>MultipleLines_No phone service</th>\n",
              "      <th>PhoneService_Yes</th>\n",
              "      <th>PaymentMethod_Mailed check</th>\n",
              "      <th>PaymentMethod_Credit card (automatic)</th>\n",
              "      <th>NumInternetServices</th>\n",
              "      <th>Partner_Yes</th>\n",
              "      <th>OnlineBackup_Yes</th>\n",
              "      <th>DeviceProtection_Yes</th>\n",
              "      <th>gender_Male</th>\n",
              "    </tr>\n",
              "  </thead>\n",
              "  <tbody>\n",
              "    <tr>\n",
              "      <th>3779</th>\n",
              "      <td>1.369379</td>\n",
              "      <td>1.0</td>\n",
              "      <td>0.0</td>\n",
              "      <td>0.0</td>\n",
              "      <td>1.268342</td>\n",
              "      <td>0.0</td>\n",
              "      <td>0.0</td>\n",
              "      <td>1.0</td>\n",
              "      <td>1.0</td>\n",
              "      <td>0.0</td>\n",
              "      <td>...</td>\n",
              "      <td>0.0</td>\n",
              "      <td>0.0</td>\n",
              "      <td>1.0</td>\n",
              "      <td>0.0</td>\n",
              "      <td>1.0</td>\n",
              "      <td>1.603253</td>\n",
              "      <td>1.0</td>\n",
              "      <td>1.0</td>\n",
              "      <td>1.0</td>\n",
              "      <td>1.0</td>\n",
              "    </tr>\n",
              "    <tr>\n",
              "      <th>3034</th>\n",
              "      <td>-1.277445</td>\n",
              "      <td>0.0</td>\n",
              "      <td>1.0</td>\n",
              "      <td>0.0</td>\n",
              "      <td>-0.968500</td>\n",
              "      <td>0.0</td>\n",
              "      <td>0.0</td>\n",
              "      <td>0.0</td>\n",
              "      <td>1.0</td>\n",
              "      <td>0.0</td>\n",
              "      <td>...</td>\n",
              "      <td>0.0</td>\n",
              "      <td>0.0</td>\n",
              "      <td>1.0</td>\n",
              "      <td>0.0</td>\n",
              "      <td>0.0</td>\n",
              "      <td>-0.561776</td>\n",
              "      <td>0.0</td>\n",
              "      <td>0.0</td>\n",
              "      <td>0.0</td>\n",
              "      <td>1.0</td>\n",
              "    </tr>\n",
              "    <tr>\n",
              "      <th>1606</th>\n",
              "      <td>1.613701</td>\n",
              "      <td>1.0</td>\n",
              "      <td>1.0</td>\n",
              "      <td>0.0</td>\n",
              "      <td>2.280018</td>\n",
              "      <td>0.0</td>\n",
              "      <td>0.0</td>\n",
              "      <td>1.0</td>\n",
              "      <td>1.0</td>\n",
              "      <td>1.0</td>\n",
              "      <td>...</td>\n",
              "      <td>0.0</td>\n",
              "      <td>0.0</td>\n",
              "      <td>1.0</td>\n",
              "      <td>0.0</td>\n",
              "      <td>1.0</td>\n",
              "      <td>1.603253</td>\n",
              "      <td>1.0</td>\n",
              "      <td>0.0</td>\n",
              "      <td>1.0</td>\n",
              "      <td>1.0</td>\n",
              "    </tr>\n",
              "  </tbody>\n",
              "</table>\n",
              "<p>3 rows × 26 columns</p>\n",
              "</div>"
            ],
            "text/plain": [
              "        tenure  Contract_Two year  InternetService_Fiber optic  \\\n",
              "3779  1.369379                1.0                          0.0   \n",
              "3034 -1.277445                0.0                          1.0   \n",
              "1606  1.613701                1.0                          1.0   \n",
              "\n",
              "      Contract_One year  TotalCharges  InternetService_No  \\\n",
              "3779                0.0      1.268342                 0.0   \n",
              "3034                0.0     -0.968500                 0.0   \n",
              "1606                0.0      2.280018                 0.0   \n",
              "\n",
              "      CustomerType_Phone only  OnlineSecurity_Yes  StreamingTV_Yes  \\\n",
              "3779                      0.0                 1.0              1.0   \n",
              "3034                      0.0                 0.0              1.0   \n",
              "1606                      0.0                 1.0              1.0   \n",
              "\n",
              "      PaperlessBilling_Yes  ...  CustomerType_Internet only  \\\n",
              "3779                   0.0  ...                         0.0   \n",
              "3034                   0.0  ...                         0.0   \n",
              "1606                   1.0  ...                         0.0   \n",
              "\n",
              "      MultipleLines_No phone service  PhoneService_Yes  \\\n",
              "3779                             0.0               1.0   \n",
              "3034                             0.0               1.0   \n",
              "1606                             0.0               1.0   \n",
              "\n",
              "      PaymentMethod_Mailed check  PaymentMethod_Credit card (automatic)  \\\n",
              "3779                         0.0                                    1.0   \n",
              "3034                         0.0                                    0.0   \n",
              "1606                         0.0                                    1.0   \n",
              "\n",
              "      NumInternetServices  Partner_Yes  OnlineBackup_Yes  \\\n",
              "3779             1.603253          1.0               1.0   \n",
              "3034            -0.561776          0.0               0.0   \n",
              "1606             1.603253          1.0               0.0   \n",
              "\n",
              "      DeviceProtection_Yes  gender_Male  \n",
              "3779                   1.0          1.0  \n",
              "3034                   0.0          1.0  \n",
              "1606                   1.0          1.0  \n",
              "\n",
              "[3 rows x 26 columns]"
            ]
          },
          "execution_count": 25,
          "metadata": {},
          "output_type": "execute_result"
        }
      ],
      "source": [
        "X_train = X_train.filter(best_features)\n",
        "X_test = X_test.filter(best_features)\n",
        "\n",
        "print(\"* Train set:\", X_train.shape, y_train.shape, \"\\n* Test set:\", X_test.shape, y_test.shape)\n",
        "X_train.head(3)"
      ]
    },
    {
      "cell_type": "code",
      "execution_count": 26,
      "metadata": {},
      "outputs": [
        {
          "data": {
            "text/plain": [
              "{'LogisticRegression': LogisticRegression(random_state=89)}"
            ]
          },
          "execution_count": 26,
          "metadata": {},
          "output_type": "execute_result"
        }
      ],
      "source": [
        "models_search = {\n",
        "    \"LogisticRegression\": LogisticRegression(random_state=89),\n",
        "}\n",
        "models_search"
      ]
    },
    {
      "cell_type": "code",
      "execution_count": 27,
      "metadata": {},
      "outputs": [
        {
          "data": {
            "text/plain": [
              "{'model__C': 1.0}"
            ]
          },
          "execution_count": 27,
          "metadata": {},
          "output_type": "execute_result"
        }
      ],
      "source": [
        "grid_search_pipelines[best_model].best_params_"
      ]
    },
    {
      "cell_type": "code",
      "execution_count": 28,
      "metadata": {},
      "outputs": [
        {
          "data": {
            "text/plain": [
              "{'LogisticRegression': {'model__C': [1.0]}}"
            ]
          },
          "execution_count": 28,
          "metadata": {},
          "output_type": "execute_result"
        }
      ],
      "source": [
        "params_search = {\n",
        "    \"LogisticRegression\": {\"model__C\": [1.0]},\n",
        "}\n",
        "params_search"
      ]
    },
    {
      "cell_type": "code",
      "execution_count": 29,
      "metadata": {},
      "outputs": [
        {
          "name": "stdout",
          "output_type": "stream",
          "text": [
            "\n",
            "Running GridSearchCV for LogisticRegression \n",
            "\n",
            "Fitting 2 folds for each of 1 candidates, totalling 2 fits\n"
          ]
        }
      ],
      "source": [
        "search = HyperparameterOptimizationSearch(models=models_search, params=params_search)\n",
        "search.fit(X_train, y_train,\n",
        "           scoring='accuracy',\n",
        "           n_jobs=-1,\n",
        "           cv=2)"
      ]
    },
    {
      "cell_type": "code",
      "execution_count": 30,
      "metadata": {},
      "outputs": [
        {
          "data": {
            "text/html": [
              "<div>\n",
              "<style scoped>\n",
              "    .dataframe tbody tr th:only-of-type {\n",
              "        vertical-align: middle;\n",
              "    }\n",
              "\n",
              "    .dataframe tbody tr th {\n",
              "        vertical-align: top;\n",
              "    }\n",
              "\n",
              "    .dataframe thead th {\n",
              "        text-align: right;\n",
              "    }\n",
              "</style>\n",
              "<table border=\"1\" class=\"dataframe\">\n",
              "  <thead>\n",
              "    <tr style=\"text-align: right;\">\n",
              "      <th></th>\n",
              "      <th>estimator</th>\n",
              "      <th>min_score</th>\n",
              "      <th>mean_score</th>\n",
              "      <th>max_score</th>\n",
              "      <th>std_score</th>\n",
              "      <th>model__C</th>\n",
              "    </tr>\n",
              "  </thead>\n",
              "  <tbody>\n",
              "    <tr>\n",
              "      <th>0</th>\n",
              "      <td>LogisticRegression</td>\n",
              "      <td>0.798722</td>\n",
              "      <td>0.799255</td>\n",
              "      <td>0.799787</td>\n",
              "      <td>0.000532</td>\n",
              "      <td>1.0</td>\n",
              "    </tr>\n",
              "  </tbody>\n",
              "</table>\n",
              "</div>"
            ],
            "text/plain": [
              "            estimator min_score mean_score max_score std_score model__C\n",
              "0  LogisticRegression  0.798722   0.799255  0.799787  0.000532      1.0"
            ]
          },
          "execution_count": 30,
          "metadata": {},
          "output_type": "execute_result"
        }
      ],
      "source": [
        "grid_search_summary, grid_search_pipelines = search.score_summary(sort_by='mean_score')\n",
        "grid_search_summary"
      ]
    },
    {
      "cell_type": "markdown",
      "metadata": {},
      "source": [
        "**SHAP Analysis: Model explainability using SHAP values**"
      ]
    },
    {
      "cell_type": "code",
      "execution_count": 31,
      "metadata": {},
      "outputs": [
        {
          "data": {
            "image/png": "[encoded data removed]",
            "text/plain": [
              "<Figure size 800x550 with 2 Axes>"
            ]
          },
          "metadata": {},
          "output_type": "display_data"
        }
      ],
      "source": [
        "# SHAP values for model interpretability\n",
        "import shap\n",
        "explainer = shap.Explainer(best_pipeline['model'], X_train)\n",
        "shap_values = explainer(X_test)\n",
        "shap.plots.beeswarm(shap_values)"
      ]
    },
    {
      "cell_type": "markdown",
      "metadata": {},
      "source": [
        "**Final Performance Report**"
      ]
    },
    {
      "cell_type": "code",
      "execution_count": 32,
      "metadata": {},
      "outputs": [
        {
          "name": "stdout",
          "output_type": "stream",
          "text": [
            "=== TRAIN PERFORMANCE ===\n",
            "Accuracy: 0.8013844515441959\n",
            "              precision    recall  f1-score   support\n",
            "\n",
            "         0.0       0.85      0.89      0.87      4130\n",
            "         1.0       0.65      0.55      0.60      1504\n",
            "\n",
            "    accuracy                           0.80      5634\n",
            "   macro avg       0.75      0.72      0.73      5634\n",
            "weighted avg       0.79      0.80      0.80      5634\n",
            "\n",
            "Confusion Matrix:\n",
            " [[3682  448]\n",
            " [ 671  833]]\n",
            "\n",
            "=== TEST PERFORMANCE ===\n",
            "Accuracy: 0.8176011355571328\n",
            "              precision    recall  f1-score   support\n",
            "\n",
            "         0.0       0.85      0.92      0.88      1044\n",
            "         1.0       0.69      0.54      0.60       365\n",
            "\n",
            "    accuracy                           0.82      1409\n",
            "   macro avg       0.77      0.73      0.74      1409\n",
            "weighted avg       0.81      0.82      0.81      1409\n",
            "\n",
            "Confusion Matrix:\n",
            " [[956  88]\n",
            " [169 196]]\n"
          ]
        }
      ],
      "source": [
        "from sklearn.metrics import accuracy_score, classification_report, confusion_matrix\n",
        "\n",
        "# Ensure feature order matches what was used during fit\n",
        "feature_order = best_pipeline['model'].feature_names_in_\n",
        "X_train_aligned = X_train[feature_order]\n",
        "X_test_aligned = X_test[feature_order]\n",
        "\n",
        "# Predict on train and test sets\n",
        "y_train_pred = best_pipeline.predict(X_train_aligned)\n",
        "y_test_pred = best_pipeline.predict(X_test_aligned)\n",
        "\n",
        "print(\"=== TRAIN PERFORMANCE ===\")\n",
        "print(\"Accuracy:\", accuracy_score(y_train, y_train_pred))\n",
        "print(classification_report(y_train, y_train_pred))\n",
        "print(\"Confusion Matrix:\\n\", confusion_matrix(y_train, y_train_pred))\n",
        "\n",
        "print(\"\\n=== TEST PERFORMANCE ===\")\n",
        "print(\"Accuracy:\", accuracy_score(y_test, y_test_pred))\n",
        "print(classification_report(y_test, y_test_pred))\n",
        "print(\"Confusion Matrix:\\n\", confusion_matrix(y_test, y_test_pred))"
      ]
    },
    {
      "cell_type": "markdown",
      "metadata": {},
      "source": [
        "---"
      ]
    },
    {
      "cell_type": "markdown",
      "metadata": {},
      "source": [
        "### **Summary**\n",
        "\n",
        "The Logistic Regression model effectively predicts customer churn based on demographic and various contractual and service-related features. \n",
        "\n",
        "Feature importance analysis identifies key drivers such as customer tenure, contract type, and internet add-on subscriptions, which significantly influence churn behavior.\n",
        "\n",
        "The churn prediction model demonstrates strong generalization and predictive power, achieving 80.1% accuracy on training data and 81.7% on test data. This performance reflects a well-balanced model with minimal overfitting, as evidenced by consistent alignment between predicted and actual churn outcomes across key evaluation metrics.\n",
        "\n",
        "This predictive tool enables the telecom company to anticipate potential churners more transparently, facilitating data-driven decision-making for product design, marketing, and customer retention strategies.\n",
        "\n",
        "Future enhancement could involve incorporating additional behavioral and demographic features, integrating real-time API connections for automated data updates, and training more advanced ensemble or deep learning models to further enhance prediction accuracy and operational scalability.\n",
        "\n",
        "**Final Deliverable:** A robust, interpretable logistic regression model ready for integration into the company's CRM and dashboard systems for real-time churn prediction."
      ]
    },
    {
      "cell_type": "markdown",
      "metadata": {},
      "source": [
        "---"
      ]
    },
    {
      "cell_type": "markdown",
      "metadata": {},
      "source": [
        "To be continued with dashboard presentation along with a churn predictor on app.py"
      ]
    }
  ],
  "metadata": {
    "accelerator": "GPU",
    "colab": {
      "name": "Data Practitioner Jupyter Notebook.ipynb",
      "provenance": [],
      "toc_visible": true
    },
    "kernelspec": {
      "display_name": ".venv",
      "language": "python",
      "name": "python3"
    },
    "language_info": {
      "codemirror_mode": {
        "name": "ipython",
        "version": 3
      },
      "file_extension": ".py",
      "mimetype": "text/x-python",
      "name": "python",
      "nbconvert_exporter": "python",
      "pygments_lexer": "ipython3",
      "version": "3.12.8"
    },
    "orig_nbformat": 2
  },
  "nbformat": 4,
  "nbformat_minor": 2
}
